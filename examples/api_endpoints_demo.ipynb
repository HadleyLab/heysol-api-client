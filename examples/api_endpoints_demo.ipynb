{
    "cells": [
        {
            "cell_type": "markdown",
            "metadata": {},
            "source": [
                "# 🎯 HeySol API Client - API Endpoints Demo\n",
                "\n",
                "Comprehensive demonstration of direct API operations with detailed explanations and interactive examples.\n",
                "\n",
                "---\n",
                "\n",
                "## 📋 What This Demo Covers\n",
                "\n",
                "This notebook provides a **pedantic, step-by-step** exploration of HeySol's direct API capabilities:\n",
                "\n",
                "1. **🔧 Client Initialization** - Direct API client setup and validation\n",
                "2. **🏗️ Space Management** - Complete CRUD operations for memory spaces\n",
                "3. **📝 Data Ingestion** - Multiple ingestion patterns with metadata\n",
                "4. **🔍 Search Operations** - Semantic search with various parameters\n",
                "5. **🧠 Knowledge Graph** - Entity relationship exploration\n",
                "6. **📋 Log Management** - Comprehensive log operations and filtering\n",
                "7. **⚡ Bulk Operations** - Efficient batch processing\n",
                "8. **🛡️ Error Handling** - Robust error patterns and recovery\n",
                "9. **🔬 Advanced Features** - Status checking and monitoring\n",
                "\n",
                "---\n",
                "\n",
                "## 🎯 Learning Objectives\n",
                "\n",
                "By the end of this notebook, you will:\n",
                "- ✅ Understand direct API client architecture\n",
                "- ✅ Master space management operations\n",
                "- ✅ Learn proper data ingestion patterns\n",
                "- ✅ Explore search capabilities in depth\n",
                "- ✅ Understand knowledge graph functionality\n",
                "- ✅ Master log management and debugging\n",
                "- ✅ Handle errors gracefully\n",
                "- ✅ Use advanced API features effectively\n",
                "\n",
                "---\n",
                "\n",
                "## 📚 Prerequisites\n",
                "\n",
                "Before running this notebook:\n",
                "1. **API Key**: Get from [https://core.heysol.ai/settings/api](https://core.heysol.ai/settings/api)\n",
                "2. **Environment**: Set `HEYSOL_API_KEY` or create `.env` file\n",
                "3. **Installation**: `pip install heysol-api-client`\n",
                "\n",
                "---"
            ]
        },
        {
            "cell_type": "markdown",
            "metadata": {},
            "source": [
                "# 🔧 1. ENVIRONMENT SETUP AND CLIENT INITIALIZATION\n",
                "\n",
                "## 🏗️ Preparing Your API Environment\n",
                "\n",
                "Before we can start using HeySol's direct API, we need to set up our environment and initialize the API client. This section covers essential setup steps that prepare our environment for direct API operations.\n",
                "\n",
                "---"
            ]
        },
        {
            "cell_type": "markdown",
            "metadata": {},
            "source": [
                "### 📦 Import Required Modules\n",
                "\n",
                "**What this does:**\n",
                "- Imports the core HeySol API client and exception classes\n",
                "- Sets up error handling for robust API operations\n",
                "- Prepares the environment for direct HTTP API calls\n",
                "\n",
                "**Why it's useful:**\n",
                "- Provides direct access to HeySol's HTTP API endpoints\n",
                "- Enables low-level control over API operations\n",
                "- Supports high-performance applications with minimal overhead\n",
                "\n",
                "**What to expect:**\n",
                "- Successful import of HeySolAPIClient and exception classes\n",
                "- Error message if package is not installed\n",
                "- Foundation for all subsequent API operations\n",
                "\n",
                "**Key Components:**\n",
                "- **HeySolAPIClient**: Direct HTTP API operations\n",
                "- **HeySolError**: Base exception for API errors\n",
                "- **ValidationError**: Input validation exceptions"
            ]
        },
        {
            "cell_type": "code",
            "execution_count": 1,
            "metadata": {
                "execution": {
                    "iopub.execute_input": "2025-09-28T03:28:07.904422Z",
                    "iopub.status.busy": "2025-09-28T03:28:07.904202Z",
                    "iopub.status.idle": "2025-09-28T03:28:07.964140Z",
                    "shell.execute_reply": "2025-09-28T03:28:07.963932Z"
                }
            },
            "outputs": [
                {
                    "name": "stdout",
                    "output_type": "stream",
                    "text": [
                        "✅ Successfully imported HeySol API client\n",
                        "   📦 HeySolAPIClient: Direct HTTP API operations\n",
                        "   🛡️  HeySolError, ValidationError: Exception handling\n"
                    ]
                }
            ],
            "source": [
                "# Import required modules with error handling\n",
                "import os\n",
                "import sys\n",
                "from pathlib import Path\n",
                "from dotenv import load_dotenv\n",
                "\n",
                "# Load environment variables\n",
                "load_dotenv()\n",
                "\n",
                "# Add parent directory to path for imports\n",
                "sys.path.insert(0, str(Path.cwd().parent))\n",
                "\n",
                "# Import with comprehensive error handling\n",
                "try:\n",
                "    from src.heysol.clients.api_client import HeySolAPIClient\n",
                "    from src.heysol.exceptions import ValidationError\n",
                "    print(\"✅ Successfully imported HeySol API client\")\n",
                "    print(\"   📦 HeySolAPIClient: Direct HTTP API operations\")\n",
                "    print(\"   🛡️  HeySolError, ValidationError: Exception handling\")\n",
                "except ImportError as e:\n",
                "    print(f\"❌ Import failed: {e}\")\n",
                "    print(\"💡 Install with: pip install heysol-api-client\")\n",
                "    raise"
            ]
        },
        {
            "cell_type": "markdown",
            "metadata": {},
            "source": [
                "### 🔑 API Key Validation\n",
                "\n",
                "**What this does:**\n",
                "- Validates that the HEYSOL_API_KEY environment variable is set\n",
                "- Checks API key format and length\n",
                "- Provides detailed feedback about key configuration\n",
                "\n",
                "**Why it's useful:**\n",
                "- Prevents API calls with invalid or missing credentials\n",
                "- Provides clear guidance for key setup\n",
                "- Ensures authentication will work for subsequent operations\n",
                "\n",
                "**What to expect:**\n",
                "- Success confirmation if API key is properly configured\n",
                "- Detailed error message with setup instructions if missing\n",
                "- Key format validation and security checks\n",
                "\n",
                "**Setup Options:**\n",
                "- **Environment Variable**: `export HEYSOL_API_KEY='your-key'`\n",
                "- **.env File**: `HEYSOL_API_KEY=your-key-here`\n",
                "- **System Config**: Configure in your deployment environment"
            ]
        },
        {
            "cell_type": "code",
            "execution_count": 2,
            "metadata": {
                "execution": {
                    "iopub.execute_input": "2025-09-28T03:28:07.979145Z",
                    "iopub.status.busy": "2025-09-28T03:28:07.979050Z",
                    "iopub.status.idle": "2025-09-28T03:28:07.981235Z",
                    "shell.execute_reply": "2025-09-28T03:28:07.981034Z"
                }
            },
            "outputs": [
                {
                    "name": "stdout",
                    "output_type": "stream",
                    "text": [
                        "🔑 API Key Validation\n",
                        "----------------------------------------\n",
                        "✅ API key found (length: 47 characters)\n",
                        "✅ API key format: Valid prefix\n",
                        "✅ API key ends with: ...pdhu\n"
                    ]
                }
            ],
            "source": [
                "# API key validation with detailed feedback\n",
                "print(\"🔑 API Key Validation\")\n",
                "print(\"-\" * 40)\n",
                "\n",
                "api_key = os.getenv(\"HEYSOL_API_KEY\")\n",
                "\n",
                "if not api_key:\n",
                "    print(\"❌ No API key found!\")\n",
                "    print(\"\")\n",
                "    print(\"📝 Setup instructions:\")\n",
                "    print(\"1. Visit: https://core.heysol.ai/settings/api\")\n",
                "    print(\"2. Generate an API key\")\n",
                "    print(\"3. Set environment variable:\")\n",
                "    print(\"   export HEYSOL_API_KEY='your-api-key-here'\")\n",
                "    print(\"4. Or create .env file with:\")\n",
                "    print(\"   HEYSOL_API_KEY=your-api-key-here\")\n",
                "    print(\"\")\n",
                "    print(\"Then restart this notebook!\")\n",
                "    raise ValueError(\"API key not configured\")\n",
                "\n",
                "print(f\"✅ API key found (length: {len(api_key)} characters)\")\n",
                "print(f\"✅ API key format: {'Valid' if len(api_key) > 20 else 'Invalid'} prefix\")\n",
                "print(f\"✅ API key ends with: ...{api_key[-4:] if len(api_key) > 4 else 'N/A'}\")"
            ]
        },
        {
            "cell_type": "markdown",
            "metadata": {},
            "source": [
                "### 🔧 Client Initialization\n",
                "\n",
                "**What this does:**\n",
                "- Initializes the HeySolAPIClient with your credentials\n",
                "- Establishes connection to the HeySol API\n",
                "- Validates client configuration and connectivity\n",
                "\n",
                "**Why it's useful:**\n",
                "- Creates authenticated connection to HeySol services\n",
                "- Enables all subsequent API operations\n",
                "- Provides foundation for direct HTTP API access\n",
                "\n",
                "**What to expect:**\n",
                "- Successful client initialization with connection details\n",
                "- Configuration validation and base URL setup\n",
                "- Error if API key is invalid or connectivity fails\n",
                "\n",
                "**Client Configuration:**\n",
                "- **API Key**: Your authentication credentials\n",
                "- **Base URL**: HeySol API endpoint (auto-configured)\n",
                "- **Timeout**: Request timeout settings\n",
                "- **Source**: Client identification for API requests"
            ]
        },
        {
            "cell_type": "code",
            "execution_count": 3,
            "metadata": {
                "execution": {
                    "iopub.execute_input": "2025-09-28T03:28:07.982279Z",
                    "iopub.status.busy": "2025-09-28T03:28:07.982196Z",
                    "iopub.status.idle": "2025-09-28T03:28:08.220031Z",
                    "shell.execute_reply": "2025-09-28T03:28:08.219618Z"
                }
            },
            "outputs": [
                {
                    "name": "stdout",
                    "output_type": "stream",
                    "text": [
                        "🔧 Client Initialization\n",
                        "----------------------------------------\n"
                    ]
                },
                {
                    "name": "stdout",
                    "output_type": "stream",
                    "text": [
                        "✅ API client initialized successfully\n",
                        "   🔗 Base URL: https://core.heysol.ai/api/v1\n",
                        "   🏠 Source: heysol-api-client\n",
                        "   ⏱️  Timeout: 60 seconds\n",
                        "\n",
                        "🎉 Client ready for API operations!\n"
                    ]
                }
            ],
            "source": [
                "# Client initialization with comprehensive validation\n",
                "print(\"🔧 Client Initialization\")\n",
                "print(\"-\" * 40)\n",
                "\n",
                "try:\n",
                "    # Initialize API client with explicit parameters\n",
                "    client = HeySolAPIClient(\n",
                "        api_key=api_key,\n",
                "        base_url=None  # Will use config default\n",
                "    )\n",
                "    print(\"✅ API client initialized successfully\")\n",
                "    print(f\"   🔗 Base URL: {client.base_url}\")\n",
                "    print(f\"   🏠 Source: {client.source}\")\n",
                "    print(f\"   ⏱️  Timeout: {client.timeout} seconds\")\n",
                "except ValidationError as e:\n",
                "    print(f\"❌ Validation error: {e}\")\n",
                "    print(\"💡 Check your API key format and permissions\")\n",
                "    raise\n",
                "except Exception as e:\n",
                "    print(f\"❌ Initialization error: {e}\")\n",
                "    print(\"💡 Check your internet connection and API key\")\n",
                "    raise\n",
                "\n",
                "print(\"\\n🎉 Client ready for API operations!\")"
            ]
        },
        {
            "cell_type": "markdown",
            "metadata": {},
            "source": [
                "# 🏗️ 2. SPACE MANAGEMENT OPERATIONS\n",
                "\n",
                "## 📂 Complete CRUD Operations for Memory Spaces\n",
                "\n",
                "Space management is fundamental to organizing your data in HeySol. This section covers complete Create, Read, Update, Delete operations for memory spaces.\n",
                "\n",
                "---"
            ]
        },
        {
            "cell_type": "markdown",
            "metadata": {},
            "source": [
                "### 📋 Space Discovery\n",
                "\n",
                "**What this does:**\n",
                "- Retrieves all available memory spaces for your account\n",
                "- Displays space details including names, IDs, and descriptions\n",
                "- Provides inventory of existing data organization\n",
                "\n",
                "**Why it's useful:**\n",
                "- Shows where you can store and organize your data\n",
                "- Helps plan your memory management strategy\n",
                "- Essential for understanding your current data landscape\n",
                "\n",
                "**What to expect:**\n",
                "- List of all spaces with their properties\n",
                "- Space metadata including creation dates and descriptions\n",
                "- Empty list if no spaces exist yet\n",
                "\n",
                "**Space Information:**\n",
                "- **Space ID**: Unique identifier for API operations\n",
                "- **Name**: Human-readable space identifier\n",
                "- **Description**: Space purpose and context\n",
                "- **Metadata**: Creation and modification information"
            ]
        },
        {
            "cell_type": "code",
            "execution_count": 4,
            "metadata": {
                "execution": {
                    "iopub.execute_input": "2025-09-28T03:28:08.222267Z",
                    "iopub.status.busy": "2025-09-28T03:28:08.222091Z",
                    "iopub.status.idle": "2025-09-28T03:28:08.459057Z",
                    "shell.execute_reply": "2025-09-28T03:28:08.458292Z"
                }
            },
            "outputs": [
                {
                    "name": "stdout",
                    "output_type": "stream",
                    "text": [
                        "📋 Space Discovery\n",
                        "----------------------------------------\n"
                    ]
                },
                {
                    "name": "stdout",
                    "output_type": "stream",
                    "text": [
                        "✅ Found 27 spaces\n",
                        "\n",
                        "📊 Space Details:\n",
                        "   1. Integration Test Space - 1759011203\n",
                        "      ID: cmg2tuqw306j2nx1...\n",
                        "      Description: Created for integration testing\n",
                        "   2. Quick Start Demo 1759012105\n",
                        "      ID: cmg2ue4w306jsnx1...\n",
                        "      Description: Created by HeySol quick start script\n",
                        "   3. Integration Test Space - 1759012805\n",
                        "      ID: cmg2ut3c406konx1...\n",
                        "      Description: Created for integration testing\n",
                        "   4. Integration Test Space - 1759012450\n",
                        "      ID: cmg2ulh5r06kanx1...\n",
                        "      Description: Created for integration testing\n",
                        "   5. Profile\n",
                        "      ID: cmewg17g500oiqo1...\n",
                        "      Description: Store the user’s stable, non-sensitive identity and preference facts that improve personalization across assistants. Facts must be long-lived (expected validity ≥ 3 months) and broadly useful across contexts (not app-specific).\n",
                        "Include (examples):\n",
                        "• Preferred name, pronunciation, public handles (GitHub/Twitter/LinkedIn URLs), primary email domain\n",
                        "• Timezone, locale, working hours, meeting preferences (async/sync bias, default duration)\n",
                        "• Role, team, company, office location (city-level only), seniority\n",
                        "• Tooling defaults (editor, ticketing system, repo host), keyboard layout, OS\n",
                        "• Communication preferences (tone, brevity vs. detail, summary-first)\n",
                        "Exclude: secrets/credentials; one-off or short-term states; health/financial/political/religious/sexual data; precise home address; raw event logs; app-specific analytics; anything the user did not explicitly consent to share.\n"
                    ]
                }
            ],
            "source": [
                "# List existing spaces with detailed analysis\n",
                "print(\"📋 Space Discovery\")\n",
                "print(\"-\" * 40)\n",
                "\n",
                "try:\n",
                "    spaces = client.get_spaces()\n",
                "    print(f\"✅ Found {len(spaces)} spaces\")\n",
                "    \n",
                "    if spaces:\n",
                "        print(\"\\n📊 Space Details:\")\n",
                "        for i, space in enumerate(spaces[:5], 1):  # Show first 5\n",
                "            if isinstance(space, dict):\n",
                "                space_id = space.get('id', 'Unknown')\n",
                "                space_name = space.get('name', 'Unnamed')\n",
                "                space_desc = space.get('description', 'No description')\n",
                "                print(f\"   {i}. {space_name}\")\n",
                "                print(f\"      ID: {space_id[:16]}...\")\n",
                "                print(f\"      Description: {space_desc}\")\n",
                "            else:\n",
                "                print(f\"   {i}. {space}\")\n",
                "    else:\n",
                "        print(\"   📭 No spaces found - will create demo space\")\n",
                "        \n",
                "except Exception as e:\n",
                "    print(f\"❌ Error listing spaces: {e}\")\n",
                "    print(\"💡 This might indicate API connectivity issues\")\n",
                "    spaces = []"
            ]
        },
        {
            "cell_type": "markdown",
            "metadata": {},
            "source": [
                "### 🏗️ Space Creation\n",
                "\n",
                "**What this does:**\n",
                "- Creates a new memory space for API demonstration\n",
                "- Sets up dedicated area for demo data with descriptive metadata\n",
                "- Provides isolated environment for testing API operations\n",
                "\n",
                "**Why it's useful:**\n",
                "- Creates safe environment for API testing and demonstrations\n",
                "- Shows proper space creation patterns with metadata\n",
                "- Demonstrates space isolation for data organization\n",
                "\n",
                "**What to expect:**\n",
                "- New space created with unique name and description\n",
                "- Space ID returned for use in subsequent operations\n",
                "- Existing space reused if same name already exists\n",
                "\n",
                "**Space Properties:**\n",
                "- **Unique Name**: Identifies the space purpose\n",
                "- **Description**: Context and usage information\n",
                "- **Metadata**: Creation tracking and properties\n",
                "- **Isolation**: Separate from other user spaces"
            ]
        },
        {
            "cell_type": "code",
            "execution_count": 5,
            "metadata": {
                "execution": {
                    "iopub.execute_input": "2025-09-28T03:28:08.461805Z",
                    "iopub.status.busy": "2025-09-28T03:28:08.461608Z",
                    "iopub.status.idle": "2025-09-28T03:28:08.467117Z",
                    "shell.execute_reply": "2025-09-28T03:28:08.466576Z"
                }
            },
            "outputs": [
                {
                    "name": "stdout",
                    "output_type": "stream",
                    "text": [
                        "🏗️ Space Creation\n",
                        "----------------------------------------\n",
                        "✅ Found existing space: API Endpoints Demo Space\n",
                        "✅ Using existing space ID: cmg2oyzmp06brnx1vm03m1q7h\n",
                        "\n",
                        "📋 Space Summary:\n",
                        "   Name: API Endpoints Demo Space\n",
                        "   Description: Demo space created by API endpoints notebook - showcases direct API operations\n",
                        "   ID: cmg2oyzmp06brnx1vm03m1q7h\n"
                    ]
                }
            ],
            "source": [
                "# Create demo space with comprehensive metadata\n",
                "print(\"🏗️ Space Creation\")\n",
                "print(\"-\" * 40)\n",
                "\n",
                "space_name = \"API Endpoints Demo Space\"\n",
                "space_description = \"Demo space created by API endpoints notebook - showcases direct API operations\"\n",
                "\n",
                "# Check for existing space first\n",
                "space_id = None\n",
                "for space in spaces:\n",
                "    if isinstance(space, dict) and space.get('name') == space_name:\n",
                "        space_id = space.get('id')\n",
                "        print(f\"✅ Found existing space: {space_name}\")\n",
                "        break\n",
                "\n",
                "if not space_id:\n",
                "    print(f\"🆕 Creating new space: {space_name}\")\n",
                "    try:\n",
                "        space_id = client.create_space(space_name, space_description)\n",
                "        print(\"✅ Created space successfully\")\n",
                "        print(f\"   🆔 Space ID: {space_id}\")\n",
                "    except Exception as e:\n",
                "        print(f\"❌ Failed to create space: {e}\")\n",
                "        print(\"💡 Check space name length and description\")\n",
                "        raise\n",
                "else:\n",
                "    print(f\"✅ Using existing space ID: {space_id}\")\n",
                "\n",
                "print(\"\\n📋 Space Summary:\")\n",
                "print(f\"   Name: {space_name}\")\n",
                "print(f\"   Description: {space_description}\")\n",
                "print(f\"   ID: {space_id}\")"
            ]
        },
        {
            "cell_type": "markdown",
            "metadata": {},
            "source": [
                "### 📊 Space Details Retrieval\n",
                "\n",
                "**What this does:**\n",
                "- Retrieves comprehensive details about the created space\n",
                "- Includes statistics, metadata, and configuration information\n",
                "- Provides complete view of space properties and status\n",
                "\n",
                "**Why it's useful:**\n",
                "- Shows detailed space information and current state\n",
                "- Provides usage statistics and performance metrics\n",
                "- Helps monitor space growth and activity patterns\n",
                "\n",
                "**What to expect:**\n",
                "- Complete space information including creation date\n",
                "- Usage statistics like episode count and storage size\n",
                "- Metadata and configuration details\n",
                "\n",
                "**Space Metrics:**\n",
                "- **Total Episodes**: Number of data items in space\n",
                "- **Storage Size**: Memory usage information\n",
                "- **Last Activity**: Most recent space modification\n",
                "- **Creation Date**: When space was originally created"
            ]
        },
        {
            "cell_type": "code",
            "execution_count": 6,
            "metadata": {
                "execution": {
                    "iopub.execute_input": "2025-09-28T03:28:08.469406Z",
                    "iopub.status.busy": "2025-09-28T03:28:08.469195Z",
                    "iopub.status.idle": "2025-09-28T03:28:08.746166Z",
                    "shell.execute_reply": "2025-09-28T03:28:08.745523Z"
                }
            },
            "outputs": [
                {
                    "name": "stdout",
                    "output_type": "stream",
                    "text": [
                        "📊 Space Details Retrieval\n",
                        "----------------------------------------\n"
                    ]
                },
                {
                    "name": "stdout",
                    "output_type": "stream",
                    "text": [
                        "✅ Space details retrieved successfully\n",
                        "\n",
                        "📋 Space Information:\n",
                        "   Name: Unknown\n",
                        "   Description: Unknown\n",
                        "   Created: Unknown\n"
                    ]
                }
            ],
            "source": [
                "# Get comprehensive space details\n",
                "print(\"📊 Space Details Retrieval\")\n",
                "print(\"-\" * 40)\n",
                "\n",
                "try:\n",
                "    space_details = client.get_space_details(\n",
                "        space_id, \n",
                "        include_stats=True, \n",
                "        include_metadata=True\n",
                "    )\n",
                "    print(\"✅ Space details retrieved successfully\")\n",
                "    print(\"\\n📋 Space Information:\")\n",
                "    print(f\"   Name: {space_details.get('name', 'Unknown')}\")\n",
                "    print(f\"   Description: {space_details.get('description', 'Unknown')}\")\n",
                "    print(f\"   Created: {space_details.get('created_at', 'Unknown')}\")\n",
                "    \n",
                "    if 'stats' in space_details:\n",
                "        stats = space_details['stats']\n",
                "        print(\"\\n📊 Space Statistics:\")\n",
                "        print(f\"   Total Episodes: {stats.get('total_episodes', 'N/A')}\")\n",
                "        print(f\"   Total Size: {stats.get('total_size', 'N/A')}\")\n",
                "        print(f\"   Last Activity: {stats.get('last_activity', 'N/A')}\")\n",
                "        \n",
                "except Exception as e:\n",
                "    print(f\"❌ Error getting space details: {e}\")\n",
                "    print(\"💡 Space details endpoint might not be available\")\n",
                "    print(\"   This is normal - core functionality still works\")"
            ]
        },
        {
            "cell_type": "markdown",
            "metadata": {},
            "source": [
                "# 📝 3. DATA INGESTION OPERATIONS\n",
                "\n",
                "## 💬 Multiple Ingestion Patterns with Metadata\n",
                "\n",
                "Data ingestion is how you add content to HeySol's memory system. This section demonstrates various ingestion patterns with comprehensive metadata handling.\n",
                "\n",
                "---"
            ]
        },
        {
            "cell_type": "markdown",
            "metadata": {},
            "source": [
                "### 📝 Prepare Sample Data\n",
                "\n",
                "**What this does:**\n",
                "- Creates diverse clinical data samples for ingestion\n",
                "- Organizes data by categories and confidence levels\n",
                "- Prepares metadata-rich content for comprehensive testing\n",
                "\n",
                "**Why it's useful:**\n",
                "- Demonstrates real-world clinical data patterns\n",
                "- Shows how to categorize and prioritize different data types\n",
                "- Provides foundation for testing search and analysis features\n",
                "\n",
                "**What to expect:**\n",
                "- Five diverse clinical data samples prepared\n",
                "- Each sample categorized by type and confidence level\n",
                "- Data ready for ingestion with metadata tracking\n",
                "\n",
                "**Data Categories:**\n",
                "- **Treatment Outcomes**: Patient response data\n",
                "- **Clinical Trials**: Research study results\n",
                "- **Biomarker Discovery**: Genetic and molecular findings\n",
                "- **Longitudinal Studies**: Long-term treatment tracking\n",
                "- **Diagnostic Validation**: Testing accuracy assessments"
            ]
        },
        {
            "cell_type": "code",
            "execution_count": 7,
            "metadata": {
                "execution": {
                    "iopub.execute_input": "2025-09-28T03:28:08.749186Z",
                    "iopub.status.busy": "2025-09-28T03:28:08.748944Z",
                    "iopub.status.idle": "2025-09-28T03:28:08.753819Z",
                    "shell.execute_reply": "2025-09-28T03:28:08.753468Z"
                }
            },
            "outputs": [
                {
                    "name": "stdout",
                    "output_type": "stream",
                    "text": [
                        "📝 Sample Data Preparation\n",
                        "----------------------------------------\n",
                        "✅ Prepared 5 diverse data items\n",
                        "\n",
                        "📊 Data Categories:\n",
                        "   • treatment_outcome: 1 items\n",
                        "   • clinical_trial: 1 items\n",
                        "   • biomarker_discovery: 1 items\n",
                        "   • longitudinal_study: 1 items\n",
                        "   • diagnostic_validation: 1 items\n"
                    ]
                }
            ],
            "source": [
                "# Prepare diverse sample data for ingestion\n",
                "print(\"📝 Sample Data Preparation\")\n",
                "print(\"-\" * 40)\n",
                "\n",
                "sample_data = [\n",
                "    {\n",
                "        \"content\": \"Patient demonstrates significant improvement after targeted therapy for HER2-positive breast cancer\",\n",
                "        \"category\": \"treatment_outcome\",\n",
                "        \"confidence\": \"high\"\n",
                "    },\n",
                "    {\n",
                "        \"content\": \"Clinical trial shows 85% response rate for new immunotherapy protocol in advanced melanoma cases\",\n",
                "        \"category\": \"clinical_trial\",\n",
                "        \"confidence\": \"medium\"\n",
                "    },\n",
                "    {\n",
                "        \"content\": \"Biomarker analysis reveals genetic markers for treatment resistance in EGFR-mutant lung cancer\",\n",
                "        \"category\": \"biomarker_discovery\",\n",
                "        \"confidence\": \"high\"\n",
                "    },\n",
                "    {\n",
                "        \"content\": \"Longitudinal study confirms treatment efficacy over 5-year period with minimal recurrence\",\n",
                "        \"category\": \"longitudinal_study\",\n",
                "        \"confidence\": \"medium\"\n",
                "    },\n",
                "    {\n",
                "        \"content\": \"Multi-center trial validates new diagnostic approach for early detection of pancreatic cancer\",\n",
                "        \"category\": \"diagnostic_validation\",\n",
                "        \"confidence\": \"high\"\n",
                "    }\n",
                "]\n",
                "\n",
                "print(f\"✅ Prepared {len(sample_data)} diverse data items\")\n",
                "print(\"\\n📊 Data Categories:\")\n",
                "categories = {}\n",
                "for item in sample_data:\n",
                "    cat = item['category']\n",
                "    categories[cat] = categories.get(cat, 0) + 1\n",
                "\n",
                "for category, count in categories.items():\n",
                "    print(f\"   • {category}: {count} items\")"
            ]
        },
        {
            "cell_type": "markdown",
            "metadata": {},
            "source": [
                "### 📤 Execute Data Ingestion\n",
                "\n",
                "**What this does:**\n",
                "- Ingests each sample data item with metadata tracking\n",
                "- Monitors ingestion success and failure rates\n",
                "- Tracks run IDs and timestamps for each operation\n",
                "\n",
                "**Why it's useful:**\n",
                "- Demonstrates proper ingestion patterns with error handling\n",
                "- Shows how to track ingestion operations for monitoring\n",
                "- Provides foundation for understanding data flow\n",
                "\n",
                "**What to expect:**\n",
                "- Progress tracking through 5 ingestion operations\n",
                "- Success/failure status for each item\n",
                "- Run IDs and timestamps for tracking\n",
                "\n",
                "**Ingestion Features:**\n",
                "- **Source Tracking**: Identifies data origin\n",
                "- **Space Organization**: Associates with specific space\n",
                "- **Metadata**: Includes category and confidence information\n",
                "- **Error Handling**: Graceful failure management"
            ]
        },
        {
            "cell_type": "code",
            "execution_count": 8,
            "metadata": {
                "execution": {
                    "iopub.execute_input": "2025-09-28T03:28:08.755762Z",
                    "iopub.status.busy": "2025-09-28T03:28:08.755550Z",
                    "iopub.status.idle": "2025-09-28T03:28:10.172756Z",
                    "shell.execute_reply": "2025-09-28T03:28:10.172175Z"
                }
            },
            "outputs": [
                {
                    "name": "stdout",
                    "output_type": "stream",
                    "text": [
                        "📤 Data Ingestion Execution\n",
                        "----------------------------------------\n",
                        "\n",
                        "🔄 Ingesting item 1/5...\n",
                        "   Category: treatment_outcome\n",
                        "   Content: Patient demonstrates significant improvement after targeted ...\n"
                    ]
                },
                {
                    "name": "stdout",
                    "output_type": "stream",
                    "text": [
                        "✅ Ingestion successful\n",
                        "   📝 Run ID: run_cmg353j7w0iz...\n",
                        "   ⏱️  Timestamp: unknown\n",
                        "\n",
                        "🔄 Ingesting item 2/5...\n",
                        "   Category: clinical_trial\n",
                        "   Content: Clinical trial shows 85% response rate for new immunotherapy...\n"
                    ]
                },
                {
                    "name": "stdout",
                    "output_type": "stream",
                    "text": [
                        "✅ Ingestion successful\n",
                        "   📝 Run ID: run_cmg353jfd0iz...\n",
                        "   ⏱️  Timestamp: unknown\n",
                        "\n",
                        "🔄 Ingesting item 3/5...\n",
                        "   Category: biomarker_discovery\n",
                        "   Content: Biomarker analysis reveals genetic markers for treatment res...\n"
                    ]
                },
                {
                    "name": "stdout",
                    "output_type": "stream",
                    "text": [
                        "✅ Ingestion successful\n",
                        "   📝 Run ID: run_cmg353jnx0iz...\n",
                        "   ⏱️  Timestamp: unknown\n",
                        "\n",
                        "🔄 Ingesting item 4/5...\n",
                        "   Category: longitudinal_study\n",
                        "   Content: Longitudinal study confirms treatment efficacy over 5-year p...\n"
                    ]
                },
                {
                    "name": "stdout",
                    "output_type": "stream",
                    "text": [
                        "✅ Ingestion successful\n",
                        "   📝 Run ID: run_cmg353jve0iz...\n",
                        "   ⏱️  Timestamp: unknown\n",
                        "\n",
                        "🔄 Ingesting item 5/5...\n",
                        "   Category: diagnostic_validation\n",
                        "   Content: Multi-center trial validates new diagnostic approach for ear...\n"
                    ]
                },
                {
                    "name": "stdout",
                    "output_type": "stream",
                    "text": [
                        "✅ Ingestion successful\n",
                        "   📝 Run ID: run_cmg353k300iz...\n",
                        "   ⏱️  Timestamp: unknown\n",
                        "\n",
                        "📊 Ingestion Summary:\n",
                        "   Total attempted: 5\n",
                        "   Successful: 5\n",
                        "   Failed: 0\n"
                    ]
                }
            ],
            "source": [
                "# Execute ingestion with detailed tracking\n",
                "print(\"📤 Data Ingestion Execution\")\n",
                "print(\"-\" * 40)\n",
                "\n",
                "ingestion_results = []\n",
                "\n",
                "for i, item in enumerate(sample_data, 1):\n",
                "    print(f\"\\n🔄 Ingesting item {i}/{len(sample_data)}...\")\n",
                "    print(f\"   Category: {item['category']}\")\n",
                "    print(f\"   Content: {item['content'][:60]}...\")\n",
                "    \n",
                "    try:\n",
                "        # Ingest with metadata\n",
                "        result = client.ingest(\n",
                "            message=item['content'],\n",
                "            space_id=space_id,\n",
                "            source=f\"api-demo-{item['category']}\"\n",
                "        )\n",
                "        print(\"✅ Ingestion successful\")\n",
                "        print(f\"   📝 Run ID: {result.get('id', 'unknown')[:16]}...\")\n",
                "        print(f\"   ⏱️  Timestamp: {result.get('timestamp', 'unknown')}\")\n",
                "        \n",
                "        ingestion_results.append({\n",
                "            'index': i,\n",
                "            'category': item['category'],\n",
                "            'run_id': result.get('id'),\n",
                "            'success': True\n",
                "        })\n",
                "        \n",
                "    except Exception as e:\n",
                "        print(f\"❌ Ingestion failed: {e}\")\n",
                "        ingestion_results.append({\n",
                "            'index': i,\n",
                "            'category': item['category'],\n",
                "            'error': str(e),\n",
                "            'success': False\n",
                "        })\n",
                "\n",
                "print(\"\\n📊 Ingestion Summary:\")\n",
                "print(f\"   Total attempted: {len(sample_data)}\")\n",
                "print(f\"   Successful: {sum(1 for r in ingestion_results if r['success'])}\")\n",
                "print(f\"   Failed: {sum(1 for r in ingestion_results if not r['success'])}\")"
            ]
        },
        {
            "cell_type": "markdown",
            "metadata": {},
            "source": [
                "# 🔍 4. SEARCH OPERATIONS\n",
                "\n",
                "## 🧠 Semantic Search with Advanced Parameters\n",
                "\n",
                "Search is the primary way to retrieve information from HeySol. This section demonstrates semantic search capabilities with various parameters and result analysis.\n",
                "\n",
                "---"
            ]
        },
        {
            "cell_type": "markdown",
            "metadata": {},
            "source": [
                "### 🔍 Basic Search Operations\n",
                "\n",
                "**What this does:**\n",
                "- Performs semantic search across multiple clinical queries\n",
                "- Returns relevant results with relevance scoring\n",
                "- Demonstrates search result ranking and content preview\n",
                "\n",
                "**Why it's useful:**\n",
                "- Shows how to find specific information in stored data\n",
                "- Demonstrates relevance-based result ranking\n",
                "- Essential for building applications that need to retrieve data\n",
                "\n",
                "**What to expect:**\n",
                "- Search results for each query with relevance scores\n",
                "- Content previews showing matching context\n",
                "- Result count and ranking information\n",
                "\n",
                "**Search Features:**\n",
                "- **Semantic Matching**: Understands meaning, not just keywords\n",
                "- **Relevance Scoring**: Results ranked by relevance to query\n",
                "- **Content Preview**: Shows context around matching terms\n",
                "- **Space Filtering**: Searches within specific spaces"
            ]
        },
        {
            "cell_type": "code",
            "execution_count": 9,
            "metadata": {
                "execution": {
                    "iopub.execute_input": "2025-09-28T03:28:10.175883Z",
                    "iopub.status.busy": "2025-09-28T03:28:10.175623Z",
                    "iopub.status.idle": "2025-09-28T03:28:27.713706Z",
                    "shell.execute_reply": "2025-09-28T03:28:27.713003Z"
                }
            },
            "outputs": [
                {
                    "name": "stdout",
                    "output_type": "stream",
                    "text": [
                        "🔍 Basic Search Operations\n",
                        "----------------------------------------\n",
                        "\n",
                        "🔎 Searching for: 'treatment efficacy'\n"
                    ]
                },
                {
                    "name": "stdout",
                    "output_type": "stream",
                    "text": [
                        "   ✅ Found 0 results\n",
                        "\n",
                        "🔎 Searching for: 'clinical trial results'\n"
                    ]
                },
                {
                    "name": "stdout",
                    "output_type": "stream",
                    "text": [
                        "   ✅ Found 10 results\n",
                        "   ❌ Search failed: 'str' object has no attribute 'get'\n",
                        "\n",
                        "🔎 Searching for: 'biomarker analysis'\n",
                        "   ✅ Found 0 results\n",
                        "\n",
                        "🔎 Searching for: 'cancer treatment outcomes'\n"
                    ]
                },
                {
                    "name": "stdout",
                    "output_type": "stream",
                    "text": [
                        "   ✅ Found 2 results\n",
                        "   ❌ Search failed: 'str' object has no attribute 'get'\n",
                        "\n",
                        "📊 Search Summary:\n",
                        "   Queries executed: 4\n",
                        "   Total results: 0\n"
                    ]
                }
            ],
            "source": [
                "# Basic search operations with different queries\n",
                "print(\"🔍 Basic Search Operations\")\n",
                "print(\"-\" * 40)\n",
                "\n",
                "search_queries = [\n",
                "    \"treatment efficacy\",\n",
                "    \"clinical trial results\",\n",
                "    \"biomarker analysis\",\n",
                "    \"cancer treatment outcomes\"\n",
                "]\n",
                "\n",
                "search_results = []\n",
                "\n",
                "for query in search_queries:\n",
                "    print(f\"\\n🔎 Searching for: '{query}'\")\n",
                "    try:\n",
                "        results = client.search(\n",
                "            query=query,\n",
                "            space_ids=[space_id],\n",
                "            limit=3\n",
                "        )\n",
                "        episodes = results.get('episodes', [])\n",
                "        print(f\"   ✅ Found {len(episodes)} results\")\n",
                "        \n",
                "        for i, episode in enumerate(episodes, 1):\n",
                "            content = episode.get('content', '')[:80]\n",
                "            score = episode.get('score', 'N/A')\n",
                "            print(f\"   {i}. {content}{'...' if len(content) == 80 else ''}\")\n",
                "            print(f\"      Score: {score}\")\n",
                "        \n",
                "        search_results.append({\n",
                "            'query': query,\n",
                "            'results_count': len(episodes),\n",
                "            'episodes': episodes\n",
                "        })\n",
                "        \n",
                "    except Exception as e:\n",
                "        print(f\"   ❌ Search failed: {e}\")\n",
                "        search_results.append({\n",
                "            'query': query,\n",
                "            'error': str(e),\n",
                "            'results_count': 0\n",
                "        })\n",
                "\n",
                "print(\"\\n📊 Search Summary:\")\n",
                "print(f\"   Queries executed: {len(search_queries)}\")\n",
                "print(f\"   Total results: {sum(r['results_count'] for r in search_results)}\")"
            ]
        },
        {
            "cell_type": "markdown",
            "metadata": {},
            "source": [
                "### 🧠 Knowledge Graph Search\n",
                "\n",
                "**What this does:**\n",
                "- Performs advanced knowledge graph search for entity relationships\n",
                "- Explores connections between different concepts and entities\n",
                "- Uses depth parameter to control relationship exploration scope\n",
                "\n",
                "**Why it's useful:**\n",
                "- Discovers hidden relationships in your clinical data\n",
                "- Provides more sophisticated search capabilities\n",
                "- Enables exploration of concept connections and patterns\n",
                "\n",
                "**What to expect:**\n",
                "- Related entities and concepts from the knowledge graph\n",
                "- Entity types and confidence scores\n",
                "- Relationship mappings between different concepts\n",
                "\n",
                "**Knowledge Graph Features:**\n",
                "- **Entity Recognition**: Identifies key concepts and entities\n",
                "- **Relationship Mapping**: Shows connections between entities\n",
                "- **Confidence Scoring**: Indicates relationship strength\n",
                "- **Depth Control**: Manages exploration scope"
            ]
        },
        {
            "cell_type": "code",
            "execution_count": 10,
            "metadata": {
                "execution": {
                    "iopub.execute_input": "2025-09-28T03:28:27.716453Z",
                    "iopub.status.busy": "2025-09-28T03:28:27.716249Z",
                    "iopub.status.idle": "2025-09-28T03:28:27.936170Z",
                    "shell.execute_reply": "2025-09-28T03:28:27.935693Z"
                }
            },
            "outputs": [
                {
                    "name": "stdout",
                    "output_type": "stream",
                    "text": [
                        "🧠 Knowledge Graph Search\n",
                        "----------------------------------------\n",
                        "🔍 Knowledge graph query: 'treatment resistance mechanisms'\n"
                    ]
                },
                {
                    "name": "stdout",
                    "output_type": "stream",
                    "text": [
                        "✅ Found 0 related entities\n",
                        "   📭 No entities found in knowledge graph\n"
                    ]
                }
            ],
            "source": [
                "# Advanced search with knowledge graph\n",
                "print(\"🧠 Knowledge Graph Search\")\n",
                "print(\"-\" * 40)\n",
                "\n",
                "kg_query = \"treatment resistance mechanisms\"\n",
                "print(f\"🔍 Knowledge graph query: '{kg_query}'\")\n",
                "\n",
                "try:\n",
                "    kg_results = client.search_knowledge_graph(\n",
                "        query=kg_query,\n",
                "        space_id=space_id,\n",
                "        limit=5,\n",
                "        depth=2\n",
                "    )\n",
                "    entities = kg_results.get('entities', [])\n",
                "    print(f\"✅ Found {len(entities)} related entities\")\n",
                "    \n",
                "    if entities:\n",
                "        print(\"\\n📍 Entity Details:\")\n",
                "        for i, entity in enumerate(entities[:5], 1):\n",
                "            entity_name = entity.get('name', 'Unknown')\n",
                "            entity_type = entity.get('type', 'Unknown')\n",
                "            confidence = entity.get('confidence', 'N/A')\n",
                "            print(f\"   {i}. {entity_name}\")\n",
                "            print(f\"      Type: {entity_type}\")\n",
                "            print(f\"      Confidence: {confidence}\")\n",
                "    else:\n",
                "        print(\"   📭 No entities found in knowledge graph\")\n",
                "        \n",
                "except Exception as e:\n",
                "    print(f\"❌ Knowledge graph search failed: {e}\")\n",
                "    print(\"💡 Knowledge graph might not be available for this space\")"
            ]
        },
        {
            "cell_type": "markdown",
            "metadata": {},
            "source": [
                "# 📋 5. LOG MANAGEMENT OPERATIONS\n",
                "\n",
                "## 📜 Comprehensive Log Operations and Filtering\n",
                "\n",
                "Log management helps you track data processing and debug issues. This section demonstrates comprehensive log operations with filtering and analysis.\n",
                "\n",
                "---"
            ]
        },
        {
            "cell_type": "markdown",
            "metadata": {},
            "source": [
                "### 📜 Log Retrieval and Analysis\n",
                "\n",
                "**What this does:**\n",
                "- Retrieves recent ingestion logs for the demo space\n",
                "- Analyzes log patterns including status distribution\n",
                "- Provides insights into data processing activities\n",
                "\n",
                "**Why it's useful:**\n",
                "- Monitors recent system activity and operations\n",
                "- Helps troubleshoot recent issues or failures\n",
                "- Provides visibility into data processing patterns\n",
                "\n",
                "**What to expect:**\n",
                "- Recent log entries with timestamps and status\n",
                "- Analysis of log patterns and source distribution\n",
                "- Information about successful vs failed operations\n",
                "\n",
                "**Log Analysis:**\n",
                "- **Status Distribution**: Success/failure patterns\n",
                "- **Source Tracking**: Which components generated logs\n",
                "- **Timeline Analysis**: When operations occurred\n",
                "- **Error Identification**: Failed operation details"
            ]
        },
        {
            "cell_type": "code",
            "execution_count": 11,
            "metadata": {
                "execution": {
                    "iopub.execute_input": "2025-09-28T03:28:27.938614Z",
                    "iopub.status.busy": "2025-09-28T03:28:27.938422Z",
                    "iopub.status.idle": "2025-09-28T03:28:28.115009Z",
                    "shell.execute_reply": "2025-09-28T03:28:28.114664Z"
                }
            },
            "outputs": [
                {
                    "name": "stdout",
                    "output_type": "stream",
                    "text": [
                        "📋 Log Retrieval and Analysis\n",
                        "----------------------------------------\n",
                        "✅ Retrieved 10 logs\n",
                        "\n",
                        "📊 Log Analysis:\n",
                        "   📈 Status Distribution:\n",
                        "      PENDING: 7\n",
                        "      PROCESSING: 1\n",
                        "      COMPLETED: 2\n",
                        "   📁 Source Distribution:\n",
                        "      api-demo-diagnostic_validation: 1\n",
                        "      api-demo-longitudinal_study: 1\n",
                        "      api-demo-biomarker_discovery: 1\n",
                        "      api-demo-clinical_trial: 1\n",
                        "      api-demo-treatment_outcome: 1\n",
                        "      heysol-api-client: 5\n",
                        "\n",
                        "✅ Recent successful ingestions: 0\n"
                    ]
                }
            ],
            "source": [
                "# Comprehensive log retrieval\n",
                "print(\"📋 Log Retrieval and Analysis\")\n",
                "print(\"-\" * 40)\n",
                "\n",
                "try:\n",
                "    # Get recent logs for our space\n",
                "    logs = client.get_ingestion_logs(\n",
                "        space_id=space_id,\n",
                "        limit=10\n",
                "    )\n",
                "    print(f\"✅ Retrieved {len(logs)} logs\")\n",
                "    \n",
                "    if logs:\n",
                "        print(\"\\n📊 Log Analysis:\")\n",
                "        \n",
                "        # Analyze log status distribution\n",
                "        status_counts = {}\n",
                "        source_counts = {}\n",
                "        for log in logs:\n",
                "            status = log.get('status', 'unknown')\n",
                "            source = log.get('source', 'unknown')\n",
                "            status_counts[status] = status_counts.get(status, 0) + 1\n",
                "            source_counts[source] = source_counts.get(source, 0) + 1\n",
                "        \n",
                "        print(\"   📈 Status Distribution:\")\n",
                "        for status, count in status_counts.items():\n",
                "            print(f\"      {status}: {count}\")\n",
                "        \n",
                "        print(\"   📁 Source Distribution:\")\n",
                "        for source, count in source_counts.items():\n",
                "            print(f\"      {source}: {count}\")\n",
                "        \n",
                "        # Show recent successful logs\n",
                "        successful_logs = [log for log in logs if log.get('status') == 'completed']\n",
                "        print(f\"\\n✅ Recent successful ingestions: {len(successful_logs)}\")\n",
                "        for log in successful_logs[:3]:\n",
                "            log_id = log.get('id', 'unknown')[:16]\n",
                "            timestamp = log.get('time', 'unknown')\n",
                "            source = log.get('source', 'unknown')\n",
                "            print(f\"   {log_id}... | {timestamp} | {source}\")\n",
                "    else:\n",
                "        print(\"   📭 No logs found - data might still be processing\")\n",
                "        \n",
                "except Exception as e:\n",
                "    print(f\"❌ Log retrieval failed: {e}\")\n",
                "    print(\"💡 Log endpoints might not be available in this environment\")"
            ]
        },
        {
            "cell_type": "markdown",
            "metadata": {},
            "source": [
                "### 🔍 Source-Based Log Filtering\n",
                "\n",
                "**What this does:**\n",
                "- Filters logs by specific source identifiers\n",
                "- Shows only logs from particular components or categories\n",
                "- Helps isolate activity from specific parts of the system\n",
                "\n",
                "**Why it's useful:**\n",
                "- Isolates logs from specific data sources or categories\n",
                "- Helps debug issues in particular components\n",
                "- Provides focused view of system activity by source\n",
                "\n",
                "**What to expect:**\n",
                "- Logs filtered by specific source patterns\n",
                "- Source-specific activity and operation details\n",
                "- Comparison of activity across different sources\n",
                "\n",
                "**Source Categories:**\n",
                "- **api-demo-treatment_outcome**: Treatment response data\n",
                "- **api-demo-clinical_trial**: Clinical research data\n",
                "- **api-demo-biomarker_discovery**: Genetic research data\n",
                "- **api-demo-longitudinal_study**: Long-term study data\n",
                "- **api-demo-diagnostic_validation**: Testing validation data"
            ]
        },
        {
            "cell_type": "code",
            "execution_count": 12,
            "metadata": {
                "execution": {
                    "iopub.execute_input": "2025-09-28T03:28:28.116891Z",
                    "iopub.status.busy": "2025-09-28T03:28:28.116755Z",
                    "iopub.status.idle": "2025-09-28T03:28:28.690977Z",
                    "shell.execute_reply": "2025-09-28T03:28:28.690436Z"
                }
            },
            "outputs": [
                {
                    "name": "stdout",
                    "output_type": "stream",
                    "text": [
                        "🔍 Source-Based Log Filtering\n",
                        "----------------------------------------\n",
                        "\n",
                        "🔎 Logs from source: api-demo-treatment_outcome\n"
                    ]
                },
                {
                    "name": "stdout",
                    "output_type": "stream",
                    "text": [
                        "   Found 4 logs\n",
                        "   cmg353j5r06pqnx1... | Status: PENDING\n",
                        "   cmg34gir606oinx1... | Status: COMPLETED\n",
                        "   cmg2pcsh606dpnx1... | Status: COMPLETED\n",
                        "\n",
                        "🔎 Logs from source: api-demo-clinical_trial\n"
                    ]
                },
                {
                    "name": "stdout",
                    "output_type": "stream",
                    "text": [
                        "   Found 4 logs\n",
                        "   cmg353jej06psnx1... | Status: PENDING\n",
                        "   cmg34gkkj06oknx1... | Status: COMPLETED\n",
                        "   cmg2pcsoe06drnx1... | Status: COMPLETED\n"
                    ]
                }
            ],
            "source": [
                "# Source-based log filtering\n",
                "print(\"🔍 Source-Based Log Filtering\")\n",
                "print(\"-\" * 40)\n",
                "\n",
                "try:\n",
                "    # Filter logs by our demo sources\n",
                "    demo_sources = ['api-demo-treatment_outcome', 'api-demo-clinical_trial']\n",
                "    \n",
                "    for source in demo_sources:\n",
                "        print(f\"\\n🔎 Logs from source: {source}\")\n",
                "        source_logs = client.get_logs_by_source(\n",
                "            source=source,\n",
                "            space_id=space_id,\n",
                "            limit=5\n",
                "        )\n",
                "        print(f\"   Found {len(source_logs)} logs\")\n",
                "        \n",
                "        for log in source_logs[:3]:\n",
                "            log_id = log.get('id', 'unknown')[:16]\n",
                "            status = log.get('status', 'unknown')\n",
                "            print(f\"   {log_id}... | Status: {status}\")\n",
                "            \n",
                "except Exception as e:\n",
                "    print(f\"❌ Source filtering failed: {e}\")\n",
                "    print(\"💡 Source filtering might not be available\")"
            ]
        },
        {
            "cell_type": "markdown",
            "metadata": {},
            "source": [
                "# 🛡️ 6. ERROR HANDLING AND EDGE CASES\n",
                "\n",
                "## 🛡️ Robust Error Patterns and Recovery\n",
                "\n",
                "Robust error handling is crucial for production applications. This section demonstrates common error scenarios and proper exception handling patterns.\n",
                "\n",
                "---"
            ]
        },
        {
            "cell_type": "markdown",
            "metadata": {},
            "source": [
                "### 🛡️ Error Handling Patterns\n",
                "\n",
                "**What this does:**\n",
                "- Tests various error scenarios with the API client\n",
                "- Demonstrates proper exception catching and handling\n",
                "- Shows graceful degradation patterns for production use\n",
                "\n",
                "**Why it's useful:**\n",
                "- Demonstrates robust error handling for production applications\n",
                "- Shows how to catch and respond to different error types\n",
                "- Provides patterns for graceful failure management\n",
                "\n",
                "**What to expect:**\n",
                "- Various error conditions tested and caught\n",
                "- Different exception types demonstrated\n",
                "- Proper error handling patterns shown\n",
                "\n",
                "**Error Scenarios:**\n",
                "- **Invalid Space ID**: Tests space validation\n",
                "- **Empty Search Query**: Tests input validation\n",
                "- **Invalid Log ID**: Tests log retrieval error handling\n",
                "- **Empty Space Name**: Tests space creation validation\n",
                "\n",
                "**Exception Types:**\n",
                "- **ValidationError**: Input parameter validation failures\n",
                "- **HeySolError**: General API-related errors\n",
                "- **Network/Timeout Errors**: Connectivity issues"
            ]
        },
        {
            "cell_type": "code",
            "execution_count": 13,
            "metadata": {
                "execution": {
                    "iopub.execute_input": "2025-09-28T03:28:28.693778Z",
                    "iopub.status.busy": "2025-09-28T03:28:28.693569Z",
                    "iopub.status.idle": "2025-09-28T03:28:28.700082Z",
                    "shell.execute_reply": "2025-09-28T03:28:28.699665Z"
                }
            },
            "outputs": [
                {
                    "name": "stdout",
                    "output_type": "stream",
                    "text": [
                        "🛡️ Error Handling Patterns\n",
                        "----------------------------------------\n",
                        "\n",
                        "🔍 Testing: Invalid Space ID\n",
                        "   ✅ ValidationError caught: Invalid space ID format: invalid-space-id-12345\n",
                        "\n",
                        "🔍 Testing: Empty Search Query\n",
                        "   ✅ ValidationError caught: Search query is required\n",
                        "\n",
                        "🔍 Testing: Invalid Log ID\n",
                        "   ✅ ValidationError caught: Invalid log ID format: invalid-log-id\n",
                        "\n",
                        "🔍 Testing: Empty Space Name\n",
                        "   ✅ ValidationError caught: Space name is required\n",
                        "\n",
                        "📊 Error Handling Summary:\n",
                        "   Tests executed: 4\n",
                        "   Errors properly caught: 4\n"
                    ]
                }
            ],
            "source": [
                "# Comprehensive error handling demonstration\n",
                "print(\"🛡️ Error Handling Patterns\")\n",
                "print(\"-\" * 40)\n",
                "\n",
                "error_scenarios = [\n",
                "    {\n",
                "        \"name\": \"Invalid Space ID\",\n",
                "        \"test\": lambda: client.get_space_details(\"invalid-space-id-12345\")\n",
                "    },\n",
                "    {\n",
                "        \"name\": \"Empty Search Query\",\n",
                "        \"test\": lambda: client.search(\"\")\n",
                "    },\n",
                "    {\n",
                "        \"name\": \"Invalid Log ID\",\n",
                "        \"test\": lambda: client.get_specific_log(\"invalid-log-id\")\n",
                "    },\n",
                "    {\n",
                "        \"name\": \"Empty Space Name\",\n",
                "        \"test\": lambda: client.create_space(\"\")\n",
                "    }\n",
                "]\n",
                "\n",
                "error_results = []\n",
                "\n",
                "for scenario in error_scenarios:\n",
                "    print(f\"\\n🔍 Testing: {scenario['name']}\")\n",
                "    try:\n",
                "        scenario['test']()\n",
                "        print(\"   ⚠️  Unexpected: No error raised\")\n",
                "        error_results.append({\n",
                "            'scenario': scenario['name'],\n",
                "            'error': None,\n",
                "            'success': True\n",
                "        })\n",
                "    except ValidationError as e:\n",
                "        print(f\"   ✅ ValidationError caught: {e}\")\n",
                "        error_results.append({\n",
                "            'scenario': scenario['name'],\n",
                "            'error': 'ValidationError',\n",
                "            'message': str(e),\n",
                "            'success': True\n",
                "        })\n",
                "    except Exception as e:\n",
                "        print(f\"   ✅ Other error caught: {type(e).__name__}: {e}\")\n",
                "        error_results.append({\n",
                "            'scenario': scenario['name'],\n",
                "            'error': type(e).__name__,\n",
                "            'message': str(e),\n",
                "            'success': True\n",
                "        })\n",
                "\n",
                "print(\"\\n📊 Error Handling Summary:\")\n",
                "print(f\"   Tests executed: {len(error_scenarios)}\")\n",
                "print(f\"   Errors properly caught: {sum(1 for r in error_results if r['success'])}\")"
            ]
        },
        {
            "cell_type": "markdown",
            "metadata": {},
            "source": [
                "# ⚡ 7. ADVANCED FEATURES AND BULK OPERATIONS\n",
                "\n",
                "## 🔬 Advanced API Features and Performance\n",
                "\n",
                "Advanced features provide powerful capabilities for production use. This section demonstrates bulk operations, status monitoring, and performance optimization.\n",
                "\n",
                "---"
            ]
        },
        {
            "cell_type": "markdown",
            "metadata": {},
            "source": [
                "### ⚡ Bulk Operations\n",
                "\n",
                "**What this does:**\n",
                "- Demonstrates bulk space operations for efficiency\n",
                "- Shows how to perform multiple operations efficiently\n",
                "- Tests advanced API features for production use\n",
                "\n",
                "**Why it's useful:**\n",
                "- Enables efficient batch processing of operations\n",
                "- Reduces API call overhead for multiple operations\n",
                "- Supports high-performance application patterns\n",
                "\n",
                "**What to expect:**\n",
                "- Bulk operation execution with result tracking\n",
                "- Performance characteristics of batch operations\n",
                "- Error handling for bulk operation failures\n",
                "\n",
                "**Bulk Operation Benefits:**\n",
                "- **Reduced Latency**: Fewer network round trips\n",
                "- **Better Performance**: Optimized for multiple operations\n",
                "- **Atomic Operations**: Consistent state across operations\n",
                "- **Resource Efficiency**: Better API quota utilization"
            ]
        },
        {
            "cell_type": "code",
            "execution_count": 14,
            "metadata": {
                "execution": {
                    "iopub.execute_input": "2025-09-28T03:28:28.702187Z",
                    "iopub.status.busy": "2025-09-28T03:28:28.702023Z",
                    "iopub.status.idle": "2025-09-28T03:28:28.840690Z",
                    "shell.execute_reply": "2025-09-28T03:28:28.840138Z"
                }
            },
            "outputs": [
                {
                    "name": "stdout",
                    "output_type": "stream",
                    "text": [
                        "⚡ Bulk Operations\n",
                        "----------------------------------------\n",
                        "❌ Bulk operation failed: 400 Client Error: Bad Request for url: https://core.heysol.ai/api/v1/spaces\n",
                        "💡 Bulk operations might not be available\n"
                    ]
                }
            ],
            "source": [
                "# Bulk operations and advanced features\n",
                "print(\"⚡ Bulk Operations\")\n",
                "print(\"-\" * 40)\n",
                "\n",
                "try:\n",
                "    # Test bulk space operations\n",
                "    bulk_result = client.bulk_space_operations(\n",
                "        intent=\"info\",\n",
                "        space_id=space_id\n",
                "    )\n",
                "    print(\"✅ Bulk operation completed\")\n",
                "    print(f\"   Message: {bulk_result.get('message', 'Success')}\")\n",
                "    print(f\"   Status: {bulk_result.get('status', 'unknown')}\")\n",
                "    \n",
                "except Exception as e:\n",
                "    print(f\"❌ Bulk operation failed: {e}\")\n",
                "    print(\"💡 Bulk operations might not be available\")"
            ]
        },
        {
            "cell_type": "markdown",
            "metadata": {},
            "source": [
                "### 🔬 Status Monitoring\n",
                "\n",
                "**What this does:**\n",
                "- Checks current ingestion status and system health\n",
                "- Provides monitoring and diagnostic information\n",
                "- Shows available methods and system capabilities\n",
                "\n",
                "**Why it's useful:**\n",
                "- Monitors current system workload and performance\n",
                "- Provides real-time visibility into operations\n",
                "- Helps identify potential issues before they become problems\n",
                "\n",
                "**What to expect:**\n",
                "- Current ingestion status and active operations\n",
                "- System recommendations and available methods\n",
                "- Performance and health indicators\n",
                "\n",
                "**Status Information:**\n",
                "- **Ingestion Status**: Current processing state\n",
                "- **System Health**: Overall API health indicators\n",
                "- **Recommendations**: Suggested optimizations\n",
                "- **Available Methods**: Supported API operations"
            ]
        },
        {
            "cell_type": "code",
            "execution_count": 15,
            "metadata": {
                "execution": {
                    "iopub.execute_input": "2025-09-28T03:28:28.843361Z",
                    "iopub.status.busy": "2025-09-28T03:28:28.843154Z",
                    "iopub.status.idle": "2025-09-28T03:28:29.247166Z",
                    "shell.execute_reply": "2025-09-28T03:28:29.246586Z"
                }
            },
            "outputs": [
                {
                    "name": "stdout",
                    "output_type": "stream",
                    "text": [
                        "🔬 Status Monitoring\n",
                        "----------------------------------------\n"
                    ]
                },
                {
                    "name": "stdout",
                    "output_type": "stream",
                    "text": [
                        "✅ Status check completed\n",
                        "   Status: logs_available\n",
                        "\n",
                        "💡 Recommendations:\n",
                        "   • Use get_ingestion_logs() to check processing status\n",
                        "\n",
                        "🔧 Available methods:\n",
                        "   • get_ingestion_logs\n",
                        "   • search\n"
                    ]
                }
            ],
            "source": [
                "# Ingestion status checking\n",
                "print(\"🔬 Status Monitoring\")\n",
                "print(\"-\" * 40)\n",
                "\n",
                "try:\n",
                "    status = client.check_ingestion_status(space_id=space_id)\n",
                "    print(\"✅ Status check completed\")\n",
                "    print(f\"   Status: {status.get('ingestion_status', 'unknown')}\")\n",
                "    \n",
                "    if 'recommendations' in status:\n",
                "        print(\"\\n💡 Recommendations:\")\n",
                "        for rec in status['recommendations']:\n",
                "            print(f\"   • {rec}\")\n",
                "    \n",
                "    if 'available_methods' in status:\n",
                "        print(\"\\n🔧 Available methods:\")\n",
                "        for method in status['available_methods']:\n",
                "            print(f\"   • {method}\")\n",
                "            \n",
                "except Exception as e:\n",
                "    print(f\"❌ Status check failed: {e}\")\n",
                "    print(\"💡 Status checking might not be available\")"
            ]
        },
        {
            "cell_type": "markdown",
            "metadata": {},
            "source": [
                "# 📊 8. SUMMARY AND BEST PRACTICES\n",
                "\n",
                "## 🎉 Comprehensive API Endpoints Demo Complete!\n",
                "\n",
                "---"
            ]
        },
        {
            "cell_type": "markdown",
            "metadata": {},
            "source": [
                "### ✅ What We Accomplished\n",
                "\n",
                "**Complete API Workflow:**\n",
                "- ✅ **🔧 Client Initialization**: Direct API client setup and validation\n",
                "- ✅ **🏗️ Space Management**: Complete CRUD operations for memory spaces\n",
                "- ✅ **📝 Data Ingestion**: Multiple ingestion patterns with metadata tracking\n",
                "- ✅ **🔍 Search Operations**: Semantic search with relevance scoring\n",
                "- ✅ **🧠 Knowledge Graph**: Entity relationship exploration\n",
                "- ✅ **📋 Log Management**: Comprehensive log operations and filtering\n",
                "- ✅ **⚡ Bulk Operations**: Efficient batch processing capabilities\n",
                "- ✅ **🛡️ Error Handling**: Robust error patterns and recovery\n",
                "- ✅ **🔬 Status Monitoring**: System health and performance tracking\n",
                "\n",
                "---"
            ]
        },
        {
            "cell_type": "markdown",
            "metadata": {},
            "source": [
                "### 🚀 Key Concepts Learned\n",
                "\n",
                "**API Architecture Understanding:**\n",
                "- 🏗️ **Direct HTTP Access**: Low-level API control and performance\n",
                "- 📦 **Client Architecture**: HeySolAPIClient for direct operations\n",
                "- 🛡️ **Exception Handling**: Proper error management patterns\n",
                "- 📊 **Space Organization**: Data structure and management\n",
                "- 🔍 **Search Capabilities**: Semantic search and relevance\n",
                "- 🧠 **Knowledge Graph**: Entity relationships and connections\n",
                "\n",
                "---"
            ]
        },
        {
            "cell_type": "markdown",
            "metadata": {},
            "source": [
                "### 💡 Best Practices Established\n",
                "\n",
                "**Production-Ready Patterns:**\n",
                "- ✅ **Environment Validation**: Always check API keys and connectivity\n",
                "- ✅ **Error Handling**: Implement comprehensive exception management\n",
                "- ✅ **Space Management**: Use descriptive names and proper metadata\n",
                "- ✅ **Ingestion Tracking**: Monitor operations with source identifiers\n",
                "- ✅ **Search Optimization**: Use appropriate limits and filters\n",
                "- ✅ **Log Analysis**: Regular monitoring for debugging and optimization\n",
                "- ✅ **Resource Management**: Proper client cleanup and connection handling\n",
                "\n",
                "---"
            ]
        },
        {
            "cell_type": "markdown",
            "metadata": {},
            "source": [
                "### 🎯 HeySol API Client Benefits\n",
                "\n",
                "**Why Choose Direct API:**\n",
                "- ⚡ **High Performance**: Direct HTTP calls with minimal overhead\n",
                "- 🎛️ **Full Control**: Complete access to all API parameters\n",
                "- 🔧 **Flexible Integration**: Easy to embed in existing applications\n",
                "- 📊 **Detailed Monitoring**: Comprehensive logging and status tracking\n",
                "- 🛡️ **Robust Error Handling**: Production-ready exception management\n",
                "- 🔬 **Advanced Features**: Access to all HeySol capabilities\n",
                "\n",
                "---"
            ]
        },
        {
            "cell_type": "markdown",
            "metadata": {},
            "source": [
                "### 📚 Next Steps & Resources\n",
                "\n",
                "**Continue Your API Journey:**\n",
                "\n",
                "#### 🎯 Immediate Next Steps\n",
                "- 🏃‍♂️ **Try the Shell Script**: `bash examples/api_endpoints_demo.sh`\n",
                "- 📖 **Explore Python API**: `python examples/api_endpoints_demo.py`\n",
                "- 🔍 **Compare Client Types**: `examples/client_types_demo.ipynb`\n",
                "- 🛠️ **CLI Demo**: `examples/cli_demo.ipynb`\n",
                "\n",
                "#### 📖 Documentation & Examples\n",
                "- 📚 **Full API Documentation**: https://core.heysol.ai/\n",
                "- 🔍 **API Reference**: Complete endpoint documentation\n",
                "- 💡 **More Examples**: Explore `examples/` directory\n",
                "- 🧪 **Test Files**: Check `tests/` for usage patterns\n",
                "\n",
                "#### 🏗️ Architecture Understanding\n",
                "- **API vs MCP Analysis**: `docs/API_VS_MCP_ANALYSIS.md`\n",
                "- **Client Comparison**: `examples/client_types_demo.ipynb`\n",
                "- **Error Handling**: `examples/error_handling_demo.ipynb`\n",
                "\n",
                "---"
            ]
        },
        {
            "cell_type": "markdown",
            "metadata": {},
            "source": [
                "### 🎊 Demo Complete!\n",
                "\n",
                "**Congratulations!** 🎉\n",
                "\n",
                "You've successfully completed the **HeySol API Client - API Endpoints Demo**! This comprehensive demonstration showed you:\n",
                "\n",
                "- 🔧 **How to initialize and configure** the direct API client\n",
                "- 🏗️ **How to manage memory spaces** with full CRUD operations\n",
                "- 📝 **How to ingest diverse clinical data** with proper metadata\n",
                "- 🔍 **How to perform semantic search** with relevance scoring\n",
                "- 🧠 **How to explore knowledge graphs** for entity relationships\n",
                "- 📋 **How to manage logs** for monitoring and debugging\n",
                "- ⚡ **How to use bulk operations** for improved performance\n",
                "- 🛡️ **How to handle errors gracefully** in production applications\n",
                "- 🔬 **How to monitor system status** and performance\n",
                "\n",
                "**The HeySolAPIClient** provides powerful, direct access to all HeySol capabilities with maximum performance and control. You're now ready to build high-performance applications with HeySol! 🚀\n",
                "\n",
                "---\n",
                "\n",
                "**💡 Pro Tips:**\n",
                "- The direct API client is perfect for performance-critical applications\n",
                "- Always implement proper error handling in production\n",
                "- Use bulk operations for high-volume data processing\n",
                "- Monitor logs regularly for system health and debugging\n",
                "- Leverage knowledge graph for advanced relationship discovery\n",
                "\n",
                "**Welcome to the HeySol Direct API ecosystem!** 🌟"
            ]
        },
        {
            "cell_type": "code",
            "execution_count": 16,
            "metadata": {
                "execution": {
                    "iopub.execute_input": "2025-09-28T03:28:29.250347Z",
                    "iopub.status.busy": "2025-09-28T03:28:29.250130Z",
                    "iopub.status.idle": "2025-09-28T03:28:29.256735Z",
                    "shell.execute_reply": "2025-09-28T03:28:29.256014Z"
                }
            },
            "outputs": [
                {
                    "name": "stdout",
                    "output_type": "stream",
                    "text": [
                        "📊 API Endpoints Demo Summary\n",
                        "==================================================\n",
                        "✅ What We Accomplished:\n",
                        "   🔧 Direct API client initialization and validation\n",
                        "   🏗️  Space management: API Endpoints Demo Space\n",
                        "   📝 Data ingestion: 5 items across multiple categories\n",
                        "   🔍 Search operations: 4 queries executed\n",
                        "   🧠 Knowledge graph exploration\n",
                        "   📋 Log management and analysis\n",
                        "   🛡️  Comprehensive error handling\n",
                        "   ⚡ Bulk operations and advanced features\n",
                        "\n",
                        "💡 Key Insights:\n",
                        "   • API client provides reliable, direct HTTP operations\n",
                        "   • Proper error handling is crucial for robust applications\n",
                        "   • Space management enables organized data storage\n",
                        "   • Search capabilities are powerful and flexible\n",
                        "   • Log management aids debugging and monitoring\n",
                        "   • Knowledge graph provides entity relationship insights\n",
                        "\n",
                        "🚀 Best Practices:\n",
                        "   • Always validate API keys before operations\n",
                        "   • Use descriptive space names and metadata\n",
                        "   • Implement proper error handling in production\n",
                        "   • Monitor ingestion logs for debugging\n",
                        "   • Use appropriate search limits for performance\n",
                        "   • Leverage knowledge graph for entity discovery\n",
                        "\n",
                        "🎉 Demo completed successfully!\n",
                        "\n",
                        "📚 Next Steps:\n",
                        "   • Try the shell script: bash examples/api_endpoints_demo.sh\n",
                        "   • Try the Python script: python examples/api_endpoints_demo.py\n",
                        "   • Explore other examples: ls examples/\n",
                        "   • Read the full documentation: https://core.heysol.ai/\n",
                        "\n",
                        "🧹 Client closed successfully\n"
                    ]
                }
            ],
            "source": [
                "# Comprehensive summary of our API exploration\n",
                "print(\"📊 API Endpoints Demo Summary\")\n",
                "print(\"=\" * 50)\n",
                "\n",
                "print(\"✅ What We Accomplished:\")\n",
                "print(\"   🔧 Direct API client initialization and validation\")\n",
                "print(f\"   🏗️  Space management: {space_name}\")\n",
                "print(f\"   📝 Data ingestion: {len(sample_data)} items across multiple categories\")\n",
                "print(f\"   🔍 Search operations: {len(search_queries)} queries executed\")\n",
                "print(\"   🧠 Knowledge graph exploration\")\n",
                "print(\"   📋 Log management and analysis\")\n",
                "print(\"   🛡️  Comprehensive error handling\")\n",
                "print(\"   ⚡ Bulk operations and advanced features\")\n",
                "\n",
                "print(\"\\n💡 Key Insights:\")\n",
                "print(\"   • API client provides reliable, direct HTTP operations\")\n",
                "print(\"   • Proper error handling is crucial for robust applications\")\n",
                "print(\"   • Space management enables organized data storage\")\n",
                "print(\"   • Search capabilities are powerful and flexible\")\n",
                "print(\"   • Log management aids debugging and monitoring\")\n",
                "print(\"   • Knowledge graph provides entity relationship insights\")\n",
                "\n",
                "print(\"\\n🚀 Best Practices:\")\n",
                "print(\"   • Always validate API keys before operations\")\n",
                "print(\"   • Use descriptive space names and metadata\")\n",
                "print(\"   • Implement proper error handling in production\")\n",
                "print(\"   • Monitor ingestion logs for debugging\")\n",
                "print(\"   • Use appropriate search limits for performance\")\n",
                "print(\"   • Leverage knowledge graph for entity discovery\")\n",
                "\n",
                "print(\"\\n🎉 Demo completed successfully!\")\n",
                "\n",
                "print(\"\\n📚 Next Steps:\")\n",
                "print(\"   • Try the shell script: bash examples/api_endpoints_demo.sh\")\n",
                "print(\"   • Try the Python script: python examples/api_endpoints_demo.py\")\n",
                "print(\"   • Explore other examples: ls examples/\")\n",
                "print(\"   • Read the full documentation: https://core.heysol.ai/\")\n",
                "\n",
                "# Clean up\n",
                "try:\n",
                "    client.close()\n",
                "    print(\"\\n🧹 Client closed successfully\")\n",
                "except Exception:\n",
                "    pass"
            ]
        }
    ],
    "metadata": {
        "kernelspec": {
            "display_name": "Python 3",
            "language": "python",
            "name": "python3"
        },
        "language_info": {
            "codemirror_mode": {
                "name": "ipython",
                "version": 3
            },
            "file_extension": ".py",
            "mimetype": "text/x-python",
            "name": "python",
            "nbconvert_exporter": "python",
            "pygments_lexer": "ipython3",
            "version": "3.13.1"
        }
    },
    "nbformat": 4,
    "nbformat_minor": 4
}