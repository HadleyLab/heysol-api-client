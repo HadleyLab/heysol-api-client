{
 "cells": [
  {
   "cell_type": "markdown",
   "metadata": {},
   "source": [
    "# 🚀 HeySol API Client - Interactive Quick Start\n",
    "\n",
    "Welcome to the **HeySol API Client Quick Start**! This notebook will get you up and running with HeySol in under 5 minutes through an interactive, hands-on experience.\n",
    "\n",
    "---\n",
    "\n",
    "## 🎯 What We'll Accomplish\n",
    "\n",
    "By the end of this quick start, you'll have:\n",
    "- ✅ **Environment Setup**: Configured API keys and CLI tools\n",
    "- ✅ **Space Management**: Created and organized your first memory space\n",
    "- ✅ **Data Ingestion**: Added sample clinical data to your space\n",
    "- ✅ **Search Operations**: Found and retrieved your stored information\n",
    "- ✅ **Cross-Instance Operations**: Demonstrated data sharing between instances\n",
    "\n",
    "---\n",
    "\n",
    "## 🎮 Interactive Learning Experience\n",
    "\n",
    "✨ **Step-by-Step Guidance**: Each command explained before execution  \n",
    "✨ **Visual Progress**: Clear sections with emojis and structured layouts  \n",
    "✨ **Hands-On Practice**: One command per cell for focused learning  \n",
    "✨ **Real-Time Feedback**: Immediate results and explanations  \n",
    "✨ **Error Resilience**: Continues gracefully if individual steps fail  \n",
    "\n",
    "---\n",
    "\n",
    "## ⚠️ Prerequisites\n",
    "\n",
    "Before we begin, ensure you have:\n",
    "\n",
    "### 🔑 API Key Setup\n",
    "- Visit: **https://core.heysol.ai/settings/api**\n",
    "- Generate your API key\n",
    "- Set environment variable:\n",
    "  ```bash\n",
    "  export HEYSOL_API_KEY=\"your-api-key-here\"\n",
    "  ```\n",
    "- Or create a `.env` file with:\n",
    "  ```bash\n",
    "  HEYSOL_API_KEY_xxx=your-api-key-here\n",
    "  ```\n",
    "\n",
    "### 📦 Software Requirements\n",
    "- **Python 3.8+** installed\n",
    "- **HeySol API Client** installed: `pip install heysol-api-client`\n",
    "- **Jupyter Notebook** (you're already here!)\n",
    "\n",
    "---\n",
    "\n",
    "## 📚 Learning Objectives\n",
    "\n",
    "After completing this quick start, you'll understand:\n",
    "\n",
    "### 🧠 Core Concepts\n",
    "- **Memory Spaces**: How to organize and manage your data\n",
    "- **Data Ingestion**: Adding information to the HeySol system\n",
    "- **Search Operations**: Finding and retrieving stored content\n",
    "- **Instance Management**: Working with multiple API instances\n",
    "\n",
    "### 🛠️ Practical Skills\n",
    "- Setting up and validating your environment\n",
    "- Creating and managing memory spaces\n",
    "- Ingesting and searching clinical data\n",
    "- Performing cross-instance data operations\n",
    "- Understanding HeySol's client architecture\n",
    "\n",
    "---\n",
    "\n",
    "## 🎯 Quick Start Structure\n",
    "\n",
    "1. **🔧 Environment Setup** - API keys and CLI validation\n",
    "2. **📋 Registry Setup** - Instance registration and management\n",
    "3. **🏗️ Space Operations** - Create and manage memory spaces\n",
    "4. **📝 Data Ingestion** - Add sample clinical data\n",
    "5. **🔍 Search Operations** - Find and retrieve information\n",
    "6. **📋 Cross-Instance Demo** - Data sharing between instances\n",
    "7. **🎉 Summary & Next Steps** - Key takeaways and resources\n",
    "\n",
    "Each section includes detailed explanations of what each command does, why it's useful, and what to expect from the output.\n",
    "\n",
    "Let's get started! 🚀"
   ]
  },
  {
   "cell_type": "markdown",
   "metadata": {},
   "source": [
    "# 🔧 1. ENVIRONMENT SETUP\n",
    "\n",
    "## 🏗️ Preparing Your Environment\n",
    "\n",
    "Before we can start using HeySol, we need to ensure our environment is properly configured with API keys and the CLI tools are available.\n",
    "\n",
    "---"
   ]
  },
  {
   "cell_type": "markdown",
   "metadata": {},
   "source": [
    "### 📋 Load Environment Variables\n",
    "\n",
    "**What this does:**\n",
    "- Checks for a `.env` file in the current directory\n",
    "- If found, loads environment variables including API keys\n",
    "- Makes API credentials available to subsequent commands\n",
    "\n",
    "**Why it's useful:**\n",
    "- Keeps sensitive API keys secure and out of your code\n",
    "- Enables easy switching between different environments\n",
    "- Follows security best practices for credential management\n",
    "\n",
    "**What to expect:**\n",
    "- If `.env` file exists: Variables will be loaded into environment\n",
    "- If no `.env` file: Silent execution using existing environment variables\n",
    "- API keys will be available for authentication in subsequent steps\n",
    "\n",
    "**Environment Variables Used:**\n",
    "- `HEYSOL_API_KEY_*`: API keys for different instances\n",
    "- Variables are loaded and made available to the CLI commands"
   ]
  },
  {
   "cell_type": "code",
   "execution_count": 1,
   "metadata": {
    "execution": {
     "iopub.execute_input": "2025-10-01T01:56:31.699401Z",
     "iopub.status.busy": "2025-10-01T01:56:31.699128Z",
     "iopub.status.idle": "2025-10-01T01:56:31.708192Z",
     "shell.execute_reply": "2025-10-01T01:56:31.707822Z"
    }
   },
   "outputs": [
    {
     "name": "stdout",
     "output_type": "stream",
     "text": [
      "📋 Loading environment variables from .env file...\n",
      "✅ Environment variables loaded successfully!\n"
     ]
    }
   ],
   "source": [
    "# Load environment variables from .env file if it exists\n",
    "import os\n",
    "if os.path.exists('.env'):\n",
    "    print(\"📋 Loading environment variables from .env file...\")\n",
    "    # Load variables into environment\n",
    "    with open('.env', 'r') as f:\n",
    "        for line in f:\n",
    "            if line.strip() and not line.startswith('#'):\n",
    "                key, value = line.strip().split('=', 1)\n",
    "                os.environ[key] = value\n",
    "    print(\"✅ Environment variables loaded successfully!\")\n",
    "else:\n",
    "    print(\"ℹ️ No .env file found - using existing environment variables\")"
   ]
  },
  {
   "cell_type": "markdown",
   "metadata": {},
   "source": [
    "### 🔍 API Key Detection and Validation\n",
    "\n",
    "**What this does:**\n",
    "- Searches for API keys in environment variables (any starting with `HEYSOL_API_KEY`)\n",
    "- Extracts user information from the API key name\n",
    "- Validates that at least one API key is available\n",
    "- Sets up user context for subsequent operations\n",
    "\n",
    "**Why it's useful:**\n",
    "- Automatically detects your API credentials\n",
    "- Supports multiple API keys for different instances\n",
    "- Provides clear feedback about which user/instance is being used\n",
    "- Prevents running commands without proper authentication\n",
    "\n",
    "**What to expect:**\n",
    "- Detection of available API keys in environment\n",
    "- User name extraction from API key variable names\n",
    "- Clear error message if no API key is found\n",
    "- Sets `USER_NAME` variable for subsequent commands\n",
    "\n",
    "**Supported API Key Formats:**\n",
    "- `HEYSOL_API_KEY_IDRDEX_MAMMOCHAT`\n",
    "- `HEYSOL_API_KEY_HADLEYLABELABORATORY`\n",
    "- `HEYSOL_API_KEY_IDRDEX_GMAIL`\n",
    "- Any variable starting with `HEYSOL_API_KEY`"
   ]
  },
  {
   "cell_type": "code",
   "execution_count": 2,
   "metadata": {
    "execution": {
     "iopub.execute_input": "2025-10-01T01:56:31.737694Z",
     "iopub.status.busy": "2025-10-01T01:56:31.737573Z",
     "iopub.status.idle": "2025-10-01T01:56:31.742586Z",
     "shell.execute_reply": "2025-10-01T01:56:31.742364Z"
    }
   },
   "outputs": [
    {
     "name": "stdout",
     "output_type": "stream",
     "text": [
      "✅ Found API key from HEYSOL_API_KEY (user: HEYSOL_API_KEY)\n",
      "✅ API key validated (ends with: ...pdhu)\n"
     ]
    }
   ],
   "source": [
    "# API Key Detection and Validation\n",
    "import os\n",
    "import subprocess\n",
    "\n",
    "# Find any HEYSOL_API_KEY* variable\n",
    "heysol_api_keys = [key for key in os.environ.keys() if key.startswith('HEYSOL_API_KEY')]\n",
    "\n",
    "HEYSOL_API_KEY = None\n",
    "USER_NAME = None\n",
    "TARGET_API_KEY = None\n",
    "\n",
    "for key in heysol_api_keys:\n",
    "    if os.environ.get(key):\n",
    "        HEYSOL_API_KEY = os.environ[key]\n",
    "        \n",
    "        # Extract user info from key name\n",
    "        if key == \"HEYSOL_API_KEY_IDRDEX_MAMMOCHAT\":\n",
    "            USER_NAME = \"iDrDex@MammoChat.com\"\n",
    "            TARGET_API_KEY = os.environ.get(\"HEYSOL_API_KEY_HADLEYLABELABORATORY\")\n",
    "        elif key == \"HEYSOL_API_KEY_HADLEYLABELABORATORY\":\n",
    "            USER_NAME = \"HadleyLaboratory@gmail.com\"\n",
    "            TARGET_API_KEY = os.environ.get(\"HEYSOL_API_KEY_IDRDEX_MAMMOCHAT\")\n",
    "        elif key == \"HEYSOL_API_KEY_IDRDEX_GMAIL\":\n",
    "            USER_NAME = \"iDrDex@gmail.com\"\n",
    "            TARGET_API_KEY = os.environ.get(\"HEYSOL_API_KEY_HADLEYLABELABORATORY\")\n",
    "        else:\n",
    "            USER_NAME = key.replace(\"HEYSOL_API_KEY_\", \"\")\n",
    "            TARGET_API_KEY = os.environ.get(\"HEYSOL_API_KEY_HADLEYLABELABORATORY\")\n",
    "        \n",
    "        print(f\"✅ Found API key from {key} (user: {USER_NAME})\")\n",
    "        break\n",
    "\n",
    "if not HEYSOL_API_KEY:\n",
    "    print(\"❌ No API key found!\")\n",
    "    print(\"\")\n",
    "    print(\"📝 To get started:\")\n",
    "    print(\"1. Visit: https://core.heysol.ai/settings/api\")\n",
    "    print(\"2. Generate an API key\")\n",
    "    print(\"3. Set environment variable:\")\n",
    "    print(\"   export HEYSOL_API_KEY='your-api-key-here'\")\n",
    "    print(\"4. Or create a .env file with:\")\n",
    "    print(\"   HEYSOL_API_KEY_xxx=your-api-key-here\")\n",
    "    print(\"\")\n",
    "    print(\"Then run this notebook again!\")\n",
    "else:\n",
    "    print(f\"✅ API key validated (ends with: ...{HEYSOL_API_KEY[-4:]})\")"
   ]
  },
  {
   "cell_type": "markdown",
   "metadata": {},
   "source": [
    "### 🛠️ CLI Availability Check\n",
    "\n",
    "**What this does:**\n",
    "- Verifies that the `heysol-client` command is available in your PATH\n",
    "- Checks if the HeySol CLI tools are properly installed\n",
    "- Ensures you can run CLI commands from this notebook\n",
    "\n",
    "**Why it's useful:**\n",
    "- Confirms that the CLI installation was successful\n",
    "- Prevents running commands that would fail due to missing tools\n",
    "- Provides clear installation instructions if CLI is missing\n",
    "\n",
    "**What to expect:**\n",
    "- Success message if CLI is available\n",
    "- Clear error message with installation instructions if missing\n",
    "- Stops execution if CLI tools are not found\n",
    "\n",
    "**Installation Command:**\n",
    "- `pip install heysol-api-client` (if CLI is missing)"
   ]
  },
  {
   "cell_type": "code",
   "execution_count": 3,
   "metadata": {
    "execution": {
     "iopub.execute_input": "2025-10-01T01:56:31.743757Z",
     "iopub.status.busy": "2025-10-01T01:56:31.743670Z",
     "iopub.status.idle": "2025-10-01T01:56:32.024122Z",
     "shell.execute_reply": "2025-10-01T01:56:32.023874Z"
    }
   },
   "outputs": [
    {
     "name": "stdout",
     "output_type": "stream",
     "text": [
      "✅ CLI available\n",
      "✅ API key validated!\n"
     ]
    }
   ],
   "source": [
    "# Check if CLI is available\n",
    "\n",
    "try:\n",
    "    result = subprocess.run(['heysol-client', '--help'], capture_output=True, text=True, timeout=10)\n",
    "    print(\"✅ CLI available\")\n",
    "    print(\"✅ API key validated!\")\n",
    "except (subprocess.TimeoutExpired, FileNotFoundError):\n",
    "    print(\"❌ heysol-client CLI not found!\")\n",
    "    print(\"Install with: pip install heysol-api-client\")\n",
    "    print(\"Then run this notebook again!\")"
   ]
  },
  {
   "cell_type": "markdown",
   "metadata": {},
   "source": [
    "# 📋 2. REGISTRY SETUP\n",
    "\n",
    "## 🔐 Managing API Instances\n",
    "\n",
    "The registry system allows you to manage multiple HeySol API instances and switch between them seamlessly. This creates a foundation for all subsequent operations.\n",
    "\n",
    "---"
   ]
  },
  {
   "cell_type": "markdown",
   "metadata": {},
   "source": [
    "### 🔐 Register API Instances\n",
    "\n",
    "**What this does:**\n",
    "- Registers API instances from your `.env` file configuration\n",
    "- Creates local registry entries for easy instance management\n",
    "- Enables simplified command syntax for subsequent operations\n",
    "\n",
    "**Why it's useful:**\n",
    "- Simplifies authentication by storing instance details\n",
    "- Enables easy switching between different environments\n",
    "- Provides centralized management of multiple API instances\n",
    "- Foundation for all subsequent CLI operations\n",
    "\n",
    "**What to expect:**\n",
    "- Registry entries created for each configured instance\n",
    "- Success confirmation or error if instances already registered\n",
    "- Enables use of `--user` flag in subsequent commands\n",
    "\n",
    "**Registry Benefits:**\n",
    "- No need to specify full URLs for each command\n",
    "- Centralized credential management\n",
    "- Support for multiple environments (dev/staging/prod)"
   ]
  },
  {
   "cell_type": "code",
   "execution_count": 4,
   "metadata": {
    "execution": {
     "iopub.execute_input": "2025-10-01T01:56:32.025232Z",
     "iopub.status.busy": "2025-10-01T01:56:32.025153Z",
     "iopub.status.idle": "2025-10-01T01:56:32.416493Z",
     "shell.execute_reply": "2025-10-01T01:56:32.416128Z"
    }
   },
   "outputs": [
    {
     "name": "stdout",
     "output_type": "stream",
     "text": [
      "Found 3 instance(s) in /Users/idrdex/Library/Mobile Documents/com~apple~CloudDocs/Code/heysol_api_client/.env:\r\n",
      "--------------------------------------------------\r\n",
      "✓ HadleyLaboratory@gmail.com\r\n",
      "✓ iDrDex@MammoChat.com\r\n",
      "✓ iDrDex@gmail.com\r\n",
      "\r\n",
      "Instances registered successfully!\r\n",
      "Use 'heysol registry list' to see all registered instances.\r\n"
     ]
    },
    {
     "name": "stdout",
     "output_type": "stream",
     "text": [
      "✅ Instances registered\n"
     ]
    }
   ],
   "source": [
    "# Register instances from .env\n",
    "!python -m cli registry register\n",
    "print(\"✅ Instances registered\")"
   ]
  },
  {
   "cell_type": "markdown",
   "metadata": {},
   "source": [
    "# 🏗️ 3. SPACE OPERATIONS\n",
    "\n",
    "## 📂 Creating Your First Memory Space\n",
    "\n",
    "Memory spaces are containers for organizing your data and knowledge. This section demonstrates how to create and manage these essential organizational units.\n",
    "\n",
    "---"
   ]
  },
  {
   "cell_type": "markdown",
   "metadata": {},
   "source": [
    "### 🏗️ Create or Reuse Demo Space\n",
    "\n",
    "**What this does:**\n",
    "- Creates a new memory space specifically for this quick start demo\n",
    "- Uses timestamp to ensure unique space name\n",
    "- Reuses existing space if one with same name already exists\n",
    "- Sets up isolated environment for demo data\n",
    "\n",
    "**Why it's useful:**\n",
    "- Provides dedicated space for learning and experimentation\n",
    "- Prevents interference with production data\n",
    "- Demonstrates space creation and reuse patterns\n",
    "- Creates foundation for data ingestion and search operations\n",
    "\n",
    "**What to expect:**\n",
    "- New space created with unique timestamp-based name\n",
    "- Space ID returned for use in subsequent operations\n",
    "- Existing space reused if same name already exists\n",
    "- Confirmation message with space details\n",
    "\n",
    "**Space Properties:**\n",
    "- **Unique Name**: Timestamp ensures no conflicts\n",
    "- **Description**: Identifies space as demo/quickstart creation\n",
    "- **Isolation**: Separate from other user spaces\n",
    "- **Purpose**: Safe environment for learning and testing"
   ]
  },
  {
   "cell_type": "code",
   "execution_count": 5,
   "metadata": {
    "execution": {
     "iopub.execute_input": "2025-10-01T01:56:32.418124Z",
     "iopub.status.busy": "2025-10-01T01:56:32.417998Z",
     "iopub.status.idle": "2025-10-01T01:56:32.776582Z",
     "shell.execute_reply": "2025-10-01T01:56:32.776342Z"
    }
   },
   "outputs": [
    {
     "name": "stdout",
     "output_type": "stream",
     "text": [
      "🏗️ Setting up demo space: Quick Start Demo 1759283792\n",
      "   Checking for existing spaces...\n"
     ]
    },
    {
     "name": "stdout",
     "output_type": "stream",
     "text": [
      "   Creating new space: Quick Start Demo 1759283792\n"
     ]
    },
    {
     "name": "stdout",
     "output_type": "stream",
     "text": [
      "   Warning: Could not extract space ID from creation response\n",
      "✅ Using space: Quick Start Demo 1759283792 (ID: unknown)\n"
     ]
    }
   ],
   "source": [
    "# Create demo space (or reuse existing)\n",
    "import subprocess\n",
    "import json\n",
    "import time\n",
    "\n",
    "SPACE_NAME = f\"Quick Start Demo {int(time.time())}\"\n",
    "SPACE_DESC = \"Created by HeySol quick start notebook\"\n",
    "\n",
    "print(f\"🏗️ Setting up demo space: {SPACE_NAME}\")\n",
    "\n",
    "# Check for existing space\n",
    "print(\"   Checking for existing spaces...\")\n",
    "try:\n",
    "    result = subprocess.run([\n",
    "        'python', '-m', 'cli', 'spaces', 'list', \n",
    "        '--api-key', HEYSOL_API_KEY, '--pretty'\n",
    "    ], capture_output=True, text=True, timeout=30)\n",
    "    \n",
    "    existing_spaces = json.loads(result.stdout) if result.stdout else []\n",
    "    SPACE_ID = None\n",
    "    \n",
    "    # Look for existing space with same name\n",
    "    if isinstance(existing_spaces, list):\n",
    "        for space in existing_spaces:\n",
    "            if space.get('name') == SPACE_NAME:\n",
    "                SPACE_ID = space.get('id')\n",
    "                break\n",
    "    elif isinstance(existing_spaces, dict) and 'spaces' in existing_spaces:\n",
    "        for space in existing_spaces['spaces']:\n",
    "            if space.get('name') == SPACE_NAME:\n",
    "                SPACE_ID = space.get('id')\n",
    "                break\n",
    "    \n",
    "    if SPACE_ID:\n",
    "        print(f\"   Found existing space with ID: {SPACE_ID}\")\n",
    "    else:\n",
    "        print(f\"   Creating new space: {SPACE_NAME}\")\n",
    "        create_result = subprocess.run([\n",
    "            'python', '-m', 'cli', 'spaces', 'create', SPACE_NAME,\n",
    "            '--description', SPACE_DESC,\n",
    "            '--api-key', HEYSOL_API_KEY, '--pretty'\n",
    "        ], capture_output=True, text=True, timeout=30)\n",
    "        \n",
    "        if create_result.stdout:\n",
    "            try:\n",
    "                create_data = json.loads(create_result.stdout)\n",
    "                SPACE_ID = create_data.get('space_id')\n",
    "            except Exception:\n",
    "                SPACE_ID = None\n",
    "        \n",
    "        if not SPACE_ID:\n",
    "            print(\"   Warning: Could not extract space ID from creation response\")\n",
    "            SPACE_ID = \"unknown\"\n",
    "    \n",
    "    print(f\"✅ Using space: {SPACE_NAME} (ID: {SPACE_ID})\")\n",
    "    \n",
    "except subprocess.TimeoutExpired:\n",
    "    print(\"   Timeout checking/creating space - continuing with demo\")\n",
    "    SPACE_ID = \"demo\"\n",
    "except Exception as e:\n",
    "    print(f\"   Error with space operations: {e}\")\n",
    "    SPACE_ID = \"demo\""
   ]
  },
  {
   "cell_type": "markdown",
   "metadata": {},
   "source": [
    "# 📝 4. DATA INGESTION\n",
    "\n",
    "## 💬 Adding Clinical Data\n",
    "\n",
    "Data ingestion is how we add information to the HeySol memory system. This section demonstrates adding sample clinical data that we can later search and analyze.\n",
    "\n",
    "---"
   ]
  },
  {
   "cell_type": "markdown",
   "metadata": {},
   "source": [
    "### 💬 Ingest Sample Clinical Data\n",
    "\n",
    "**What this does:**\n",
    "- Adds three sample clinical data points to your demo space\n",
    "- Processes and stores each piece of information for later retrieval\n",
    "- Creates searchable content in the memory system\n",
    "\n",
    "**Why it's useful:**\n",
    "- Demonstrates the primary method for adding data to HeySol\n",
    "- Shows how clinical information flows into the memory system\n",
    "- Creates realistic test data for search operations\n",
    "- Illustrates batch processing capabilities\n",
    "\n",
    "**What to expect:**\n",
    "- Three clinical data samples will be processed and stored\n",
    "- Progress indicator showing ingestion of 1/3, 2/3, 3/3 items\n",
    "- Success confirmation for each ingested item\n",
    "- Data becomes immediately available for search operations\n",
    "\n",
    "**Sample Data Includes:**\n",
    "1. **Immunotherapy Response**: Patient treatment outcomes\n",
    "2. **Clinical Trial Results**: Drug efficacy data\n",
    "3. **Biomarker Analysis**: Treatment success indicators\n",
    "\n",
    "**Ingestion Process:**\n",
    "- Data is processed and indexed for search\n",
    "- Metadata is extracted and stored\n",
    "- Content becomes part of knowledge graph\n",
    "- Immediately available for retrieval and analysis"
   ]
  },
  {
   "cell_type": "code",
   "execution_count": 6,
   "metadata": {
    "execution": {
     "iopub.execute_input": "2025-10-01T01:56:32.777866Z",
     "iopub.status.busy": "2025-10-01T01:56:32.777789Z",
     "iopub.status.idle": "2025-10-01T01:56:33.194984Z",
     "shell.execute_reply": "2025-10-01T01:56:33.194717Z"
    }
   },
   "outputs": [
    {
     "name": "stdout",
     "output_type": "stream",
     "text": [
      "📝 Ingesting sample clinical data...\n",
      "   Ingesting item 1/3...\n"
     ]
    },
    {
     "name": "stdout",
     "output_type": "stream",
     "text": [
      "   ✅ Ingested 1/3 items\n",
      "   Ingesting item 2/3...\n"
     ]
    },
    {
     "name": "stdout",
     "output_type": "stream",
     "text": [
      "   ✅ Ingested 2/3 items\n",
      "   Ingesting item 3/3...\n"
     ]
    },
    {
     "name": "stdout",
     "output_type": "stream",
     "text": [
      "   ✅ Ingested 3/3 items\n",
      "✅ Sample data ingestion completed!\n"
     ]
    }
   ],
   "source": [
    "# Ingest sample clinical data\n",
    "sample_data = [\n",
    "    \"Patient shows positive response to immunotherapy treatment\",\n",
    "    \"Clinical trial demonstrates 78% efficacy rate for new oncology drug\",\n",
    "    \"Biomarker analysis reveals key indicators for treatment success\"\n",
    "]\n",
    "\n",
    "print(\"📝 Ingesting sample clinical data...\")\n",
    "\n",
    "for i, data in enumerate(sample_data, 1):\n",
    "    print(f\"   Ingesting item {i}/3...\")\n",
    "    # Use subprocess to run the CLI command\n",
    "    import subprocess\n",
    "    try:\n",
    "        subprocess.run([\n",
    "            'python', '-m', 'cli', '--user', USER_NAME, \n",
    "            'memory', 'ingest', data, '--space-id', SPACE_ID\n",
    "        ], capture_output=True, timeout=30)\n",
    "        print(f\"   ✅ Ingested {i}/3 items\")\n",
    "    except subprocess.TimeoutExpired:\n",
    "        print(f\"   ⚠️ Timeout ingesting item {i} - continuing\")\n",
    "    except Exception as e:\n",
    "        print(f\"   ⚠️ Error ingesting item {i}: {e}\")\n",
    "\n",
    "print(\"✅ Sample data ingestion completed!\")"
   ]
  },
  {
   "cell_type": "markdown",
   "metadata": {},
   "source": [
    "# 🔍 5. SEARCH OPERATIONS\n",
    "\n",
    "## 🧠 Finding Your Data\n",
    "\n",
    "Search operations are how we retrieve and analyze the information we've stored. This section demonstrates HeySol's powerful search capabilities.\n",
    "\n",
    "---"
   ]
  },
  {
   "cell_type": "markdown",
   "metadata": {},
   "source": [
    "### 🔍 Search for 'Treatment' Content\n",
    "\n",
    "**What this does:**\n",
    "- Searches through your ingested clinical data for 'treatment' keyword\n",
    "- Returns up to 3 most relevant results\n",
    "- Shows matching content with context and relevance scoring\n",
    "\n",
    "**Why it's useful:**\n",
    "- Demonstrates core search functionality\n",
    "- Shows how to find specific information in stored data\n",
    "- Illustrates relevance-based result ranking\n",
    "- Essential for building applications that need to retrieve data\n",
    "\n",
    "**What to expect:**\n",
    "- Search results containing 'treatment' keyword\n",
    "- Up to 3 most relevant matches from ingested data\n",
    "- Content preview with context (truncated to 60 characters)\n",
    "- Result count and relevance indicators\n",
    "\n",
    "**Search Features:**\n",
    "- **Relevance Scoring**: Results ranked by relevance to query\n",
    "- **Content Preview**: Shows context around matching terms\n",
    "- **Metadata**: Includes ingestion timestamps and source info\n",
    "- **Filtering**: Can be limited by space, date, or other criteria\n",
    "\n",
    "**Expected Results:**\n",
    "Should find matches in:\n",
    "- \"Patient shows positive response to **treatment**\"\n",
    "- Clinical trial and biomarker data may also contain treatment references"
   ]
  },
  {
   "cell_type": "code",
   "execution_count": 7,
   "metadata": {
    "execution": {
     "iopub.execute_input": "2025-10-01T01:56:33.196364Z",
     "iopub.status.busy": "2025-10-01T01:56:33.196291Z",
     "iopub.status.idle": "2025-10-01T01:56:33.335791Z",
     "shell.execute_reply": "2025-10-01T01:56:33.335552Z"
    }
   },
   "outputs": [
    {
     "name": "stdout",
     "output_type": "stream",
     "text": [
      "🔍 Searching for 'treatment' in your data...\n"
     ]
    },
    {
     "name": "stdout",
     "output_type": "stream",
     "text": [
      "   ℹ️ No search results found\n"
     ]
    }
   ],
   "source": [
    "# Search for 'treatment' content\n",
    "import subprocess\n",
    "import json\n",
    "\n",
    "print(\"🔍 Searching for 'treatment' in your data...\")\n",
    "\n",
    "try:\n",
    "    result = subprocess.run([\n",
    "        'python', '-m', 'cli', '--user', USER_NAME,\n",
    "        'memory', 'search', 'treatment', '--space-id', SPACE_ID,\n",
    "        '--limit', '3', '--pretty'\n",
    "    ], capture_output=True, text=True, timeout=30)\n",
    "    \n",
    "    if result.stdout:\n",
    "        try:\n",
    "            search_data = json.loads(result.stdout)\n",
    "            episodes = search_data.get('episodes', [])\n",
    "            \n",
    "            print(f\"✅ Found {len(episodes)} results:\")\n",
    "            for i, episode in enumerate(episodes[:3], 1):\n",
    "                content = episode.get('content', '')[:60]\n",
    "                print(f\"   {i}. {content}{'...' if len(content) == 60 else ''}\")\n",
    "        except json.JSONDecodeError:\n",
    "            print(\"   ℹ️ Could not parse search results\")\n",
    "    else:\n",
    "        print(\"   ℹ️ No search results found\")\n",
    "        \n",
    "except subprocess.TimeoutExpired:\n",
    "    print(\"   ⚠️ Search timeout - continuing with demo\")\n",
    "except Exception as e:\n",
    "    print(f\"   ⚠️ Search error: {e}\")"
   ]
  },
  {
   "cell_type": "markdown",
   "metadata": {},
   "source": [
    "# 📋 6. CROSS-INSTANCE OPERATIONS\n",
    "\n",
    "## 🔄 Data Sharing Between Instances\n",
    "\n",
    "HeySol supports operations across multiple instances, enabling sophisticated data sharing and collaboration workflows.\n",
    "\n",
    "---"
   ]
  },
  {
   "cell_type": "markdown",
   "metadata": {},
   "source": [
    "### 📋 Demonstrate Cross-Instance Copy\n",
    "\n",
    "**What this does:**\n",
    "- Demonstrates copying data between different HeySol instances\n",
    "- Shows how to share information across different users/environments\n",
    "- Illustrates multi-instance data management capabilities\n",
    "\n",
    "**Why it's useful:**\n",
    "- Enables collaboration between different users or environments\n",
    "- Supports data sharing and synchronization workflows\n",
    "- Demonstrates advanced multi-instance capabilities\n",
    "- Shows real-world data management scenarios\n",
    "\n",
    "**What to expect:**\n",
    "- Copy operation between current instance and target instance\n",
    "- Success confirmation if target instance is available\n",
    "- Skip message if current user is the target (avoids self-copy)\n",
    "- Demonstration of cross-instance data flow\n",
    "\n",
    "**Cross-Instance Features:**\n",
    "- **Data Transfer**: Move information between instances\n",
    "- **User Collaboration**: Share data across different accounts\n",
    "- **Environment Sync**: Keep development and production in sync\n",
    "- **Backup/Recovery**: Duplicate important data across instances\n",
    "\n",
    "**Operation Details:**\n",
    "- Copies 1 item from current space to target user\n",
    "- Requires both source and target API keys to be configured\n",
    "- Demonstrates real-world data sharing workflow"
   ]
  },
  {
   "cell_type": "code",
   "execution_count": 8,
   "metadata": {
    "execution": {
     "iopub.execute_input": "2025-10-01T01:56:33.336910Z",
     "iopub.status.busy": "2025-10-01T01:56:33.336840Z",
     "iopub.status.idle": "2025-10-01T01:56:33.478942Z",
     "shell.execute_reply": "2025-10-01T01:56:33.478629Z"
    }
   },
   "outputs": [
    {
     "name": "stdout",
     "output_type": "stream",
     "text": [
      "📋 Demonstrating cross-instance copy operation...\n",
      "   Copying 1 item to iDrDex@MammoChat.com...\n"
     ]
    },
    {
     "name": "stdout",
     "output_type": "stream",
     "text": [
      "   ✅ Successfully copied data to iDrDex@MammoChat.com\n",
      "✅ Cross-instance demonstration completed\n"
     ]
    }
   ],
   "source": [
    "# Demonstrate copy operation\n",
    "print(\"📋 Demonstrating cross-instance copy operation...\")\n",
    "\n",
    "if USER_NAME and USER_NAME != \"iDrDex@MammoChat.com\" and TARGET_API_KEY:\n",
    "    print(\"   Copying 1 item to iDrDex@MammoChat.com...\")\n",
    "    try:\n",
    "        import subprocess\n",
    "        subprocess.run([\n",
    "            'python', '-m', 'cli', '--user', USER_NAME,\n",
    "            'memory', 'copy', '--target-user', 'iDrDex@MammoChat.com',\n",
    "            '--space-id', SPACE_ID, '--limit', '1', '--confirm'\n",
    "        ], capture_output=True, timeout=30)\n",
    "        print(\"   ✅ Successfully copied data to iDrDex@MammoChat.com\")\n",
    "    except subprocess.TimeoutExpired:\n",
    "        print(\"   ⚠️ Copy operation timeout - continuing\")\n",
    "    except Exception as e:\n",
    "        print(f\"   ⚠️ Copy operation failed: {e}\")\n",
    "else:\n",
    "    print(\"   Current user is iDrDex@MammoChat.com or target not available\")\n",
    "    print(\"   Skipping cross-instance copy demo\")\n",
    "\n",
    "print(\"✅ Cross-instance demonstration completed\")"
   ]
  },
  {
   "cell_type": "markdown",
   "metadata": {},
   "source": [
    "# 🎉 7. QUICK START COMPLETE!\n",
    "\n",
    "## 🏆 Congratulations!\n",
    "\n",
    "---"
   ]
  },
  {
   "cell_type": "markdown",
   "metadata": {},
   "source": [
    "### ✅ What You Accomplished\n",
    "\n",
    "**Complete HeySol Workflow:**\n",
    "- ✅ **Environment Setup**: Configured API keys and validated CLI\n",
    "- ✅ **Registry Management**: Registered API instances for easy access\n",
    "- ✅ **Space Creation**: Set up dedicated demo space for your data\n",
    "- ✅ **Data Ingestion**: Added sample clinical data to memory system\n",
    "- ✅ **Search Operations**: Found and retrieved stored information\n",
    "- ✅ **Cross-Instance Demo**: Demonstrated data sharing capabilities\n",
    "\n",
    "---"
   ]
  },
  {
   "cell_type": "markdown",
   "metadata": {},
   "source": [
    "### 🚀 Key Concepts Learned\n",
    "\n",
    "**Core HeySol Principles:**\n",
    "- 🏗️ **Spaces**: Organizational containers for your data\n",
    "- 💬 **Ingestion**: Process of adding information to memory\n",
    "- 🔍 **Search**: Finding relevant information in stored data\n",
    "- 📋 **Instances**: Separate environments for different users/purposes\n",
    "- 🔄 **Cross-Instance**: Sharing data between different environments\n",
    "\n",
    "---"
   ]
  },
  {
   "cell_type": "markdown",
   "metadata": {},
   "source": [
    "### 📚 Next Steps & Resources\n",
    "\n",
    "**Continue Your HeySol Journey:**\n",
    "\n",
    "#### 🎯 Immediate Next Steps\n",
    "- 🏃‍♂️ **Try the Full CLI Demo**: `jupyter notebook examples/cli_demo.ipynb`\n",
    "- 📖 **Explore Python API**: `python examples/comprehensive_client_demo.py`\n",
    "- 🛠️ **CLI Help**: `heysol-client --help`\n",
    "- 📋 **Memory Commands**: `heysol-client memory --help`\n",
    "\n",
    "#### 📖 Documentation & Examples\n",
    "- 📚 **Full Documentation**: https://core.heysol.ai/\n",
    "- 🔍 **API Reference**: Complete API endpoint documentation\n",
    "- 💡 **More Examples**: Explore `examples/` directory\n",
    "- 🧪 **Test Files**: Check `tests/` for usage patterns\n",
    "\n",
    "#### 🏗️ Architecture Understanding\n",
    "- **API vs MCP Analysis**: `docs/API_VS_MCP_ANALYSIS.md`\n",
    "- **Client Types**: `examples/client_types_demo.ipynb`\n",
    "- **Error Handling**: `examples/error_handling_demo.ipynb`\n",
    "\n",
    "---"
   ]
  },
  {
   "cell_type": "markdown",
   "metadata": {},
   "source": [
    "### 🎯 HeySol Client Architecture\n",
    "\n",
    "**Three Client Types Available:**\n",
    "\n",
    "1. **🔧 HeySolClient** (Recommended)\n",
    "   - Unified client combining API and MCP capabilities\n",
    "   - Best for most users and applications\n",
    "   - Balances features and performance\n",
    "\n",
    "2. **⚡ HeySolAPIClient** (High Performance)\n",
    "   - Direct API access for maximum speed\n",
    "   - Minimal overhead and latency\n",
    "   - Best for performance-critical applications\n",
    "\n",
    "3. **🌐 HeySolMCPClient** (Advanced Features)\n",
    "   - MCP protocol for enhanced capabilities\n",
    "   - Access to advanced HeySol features\n",
    "   - Best for complex, feature-rich applications\n",
    "\n",
    "---"
   ]
  },
  {
   "cell_type": "markdown",
   "metadata": {},
   "source": [
    "### 🎊 Final Summary\n",
    "\n",
    "**Congratulations!** 🎉\n",
    "\n",
    "You've successfully completed the **HeySol API Client Quick Start**! In under 5 minutes, you:\n",
    "\n",
    "- 🚀 **Set up your environment** with API keys and CLI tools\n",
    "- 🏗️ **Created your first memory space** for data organization\n",
    "- 💬 **Ingested clinical data** into the HeySol memory system\n",
    "- 🔍 **Performed search operations** to find stored information\n",
    "- 📋 **Demonstrated cross-instance operations** for data sharing\n",
    "\n",
    "**You're now ready** to build amazing applications with HeySol! The foundation is set, and you understand the core concepts and workflows.\n",
    "\n",
    "**💡 Pro Tips:**\n",
    "- Bookmark this notebook for future reference\n",
    "- Try the full CLI demo for comprehensive feature exploration\n",
    "- Experiment with your own data in new spaces\n",
    "- Join the HeySol community for support and updates\n",
    "\n",
    "**Welcome to the HeySol ecosystem!** 🌟"
   ]
  }
 ],
 "metadata": {
  "kernelspec": {
   "display_name": "Python 3",
   "language": "python",
   "name": "python3"
  },
  "language_info": {
   "codemirror_mode": {
    "name": "ipython",
    "version": 3
   },
   "file_extension": ".py",
   "mimetype": "text/x-python",
   "name": "python",
   "nbconvert_exporter": "python",
   "pygments_lexer": "ipython3",
   "version": "3.13.5"
  }
 },
 "nbformat": 4,
 "nbformat_minor": 4
}
